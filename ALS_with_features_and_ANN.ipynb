{
  "cells": [
    {
      "cell_type": "code",
      "execution_count": 42,
      "metadata": {
        "id": "AvXmQJ4w0h-i"
      },
      "outputs": [],
      "source": [
        "import os"
      ]
    },
    {
      "cell_type": "code",
      "source": [
        "!pip install lightfm\n",
        "!pip install rectools\n",
        "!pip install seaborn\n",
        "!pip install ipykernel\n",
        "!pip install Jinja2\n",
        "!pip install hnswlib\n",
        "!pip install implicit\n",
        "!pip install optuna"
      ],
      "metadata": {
        "colab": {
          "base_uri": "https://localhost:8080/"
        },
        "id": "KnOj0yzh05-p",
        "outputId": "b84be082-f853-4f3e-bd3b-f75ecdcac9f0"
      },
      "execution_count": 43,
      "outputs": [
        {
          "output_type": "stream",
          "name": "stdout",
          "text": [
            "Looking in indexes: https://pypi.org/simple, https://us-python.pkg.dev/colab-wheels/public/simple/\n",
            "Requirement already satisfied: lightfm in /usr/local/lib/python3.8/dist-packages (1.16)\n",
            "Requirement already satisfied: numpy in /usr/local/lib/python3.8/dist-packages (from lightfm) (1.21.6)\n",
            "Requirement already satisfied: scipy>=0.17.0 in /usr/local/lib/python3.8/dist-packages (from lightfm) (1.7.3)\n",
            "Requirement already satisfied: scikit-learn in /usr/local/lib/python3.8/dist-packages (from lightfm) (1.0.2)\n",
            "Requirement already satisfied: requests in /usr/local/lib/python3.8/dist-packages (from lightfm) (2.23.0)\n",
            "Requirement already satisfied: chardet<4,>=3.0.2 in /usr/local/lib/python3.8/dist-packages (from requests->lightfm) (3.0.4)\n",
            "Requirement already satisfied: idna<3,>=2.5 in /usr/local/lib/python3.8/dist-packages (from requests->lightfm) (2.10)\n",
            "Requirement already satisfied: certifi>=2017.4.17 in /usr/local/lib/python3.8/dist-packages (from requests->lightfm) (2022.9.24)\n",
            "Requirement already satisfied: urllib3!=1.25.0,!=1.25.1,<1.26,>=1.21.1 in /usr/local/lib/python3.8/dist-packages (from requests->lightfm) (1.24.3)\n",
            "Requirement already satisfied: threadpoolctl>=2.0.0 in /usr/local/lib/python3.8/dist-packages (from scikit-learn->lightfm) (3.1.0)\n",
            "Requirement already satisfied: joblib>=0.11 in /usr/local/lib/python3.8/dist-packages (from scikit-learn->lightfm) (1.2.0)\n",
            "Looking in indexes: https://pypi.org/simple, https://us-python.pkg.dev/colab-wheels/public/simple/\n",
            "Requirement already satisfied: rectools in /usr/local/lib/python3.8/dist-packages (0.3.0)\n",
            "Requirement already satisfied: pandas<2.0.0,>=0.25.3 in /usr/local/lib/python3.8/dist-packages (from rectools) (1.3.5)\n",
            "Requirement already satisfied: scipy<2.0.0,>=1.5.4 in /usr/local/lib/python3.8/dist-packages (from rectools) (1.7.3)\n",
            "Requirement already satisfied: Markdown<3.3,>=3.2 in /usr/local/lib/python3.8/dist-packages (from rectools) (3.2.2)\n",
            "Requirement already satisfied: attrs<22.0.0,>=19.1.0 in /usr/local/lib/python3.8/dist-packages (from rectools) (21.4.0)\n",
            "Requirement already satisfied: lightfm<2.0,>=1.16 in /usr/local/lib/python3.8/dist-packages (from rectools) (1.16)\n",
            "Requirement already satisfied: implicit==0.4.4 in /usr/local/lib/python3.8/dist-packages (from rectools) (0.4.4)\n",
            "Requirement already satisfied: numpy<2.0.0,>=1.19.5 in /usr/local/lib/python3.8/dist-packages (from rectools) (1.21.6)\n",
            "Requirement already satisfied: tqdm<5.0.0,>=4.27.0 in /usr/local/lib/python3.8/dist-packages (from rectools) (4.64.1)\n",
            "Requirement already satisfied: nmslib<3.0.0,>=2.0.4 in /usr/local/lib/python3.8/dist-packages (from rectools) (2.1.1)\n",
            "Requirement already satisfied: typeguard<3.0.0,>=2.0.1 in /usr/local/lib/python3.8/dist-packages (from rectools) (2.7.1)\n",
            "Requirement already satisfied: requests in /usr/local/lib/python3.8/dist-packages (from lightfm<2.0,>=1.16->rectools) (2.23.0)\n",
            "Requirement already satisfied: scikit-learn in /usr/local/lib/python3.8/dist-packages (from lightfm<2.0,>=1.16->rectools) (1.0.2)\n",
            "Requirement already satisfied: pybind11<2.6.2 in /usr/local/lib/python3.8/dist-packages (from nmslib<3.0.0,>=2.0.4->rectools) (2.6.1)\n",
            "Requirement already satisfied: psutil in /usr/local/lib/python3.8/dist-packages (from nmslib<3.0.0,>=2.0.4->rectools) (5.4.8)\n",
            "Requirement already satisfied: pytz>=2017.3 in /usr/local/lib/python3.8/dist-packages (from pandas<2.0.0,>=0.25.3->rectools) (2022.6)\n",
            "Requirement already satisfied: python-dateutil>=2.7.3 in /usr/local/lib/python3.8/dist-packages (from pandas<2.0.0,>=0.25.3->rectools) (2.8.2)\n",
            "Requirement already satisfied: six>=1.5 in /usr/local/lib/python3.8/dist-packages (from python-dateutil>=2.7.3->pandas<2.0.0,>=0.25.3->rectools) (1.15.0)\n",
            "Requirement already satisfied: certifi>=2017.4.17 in /usr/local/lib/python3.8/dist-packages (from requests->lightfm<2.0,>=1.16->rectools) (2022.9.24)\n",
            "Requirement already satisfied: chardet<4,>=3.0.2 in /usr/local/lib/python3.8/dist-packages (from requests->lightfm<2.0,>=1.16->rectools) (3.0.4)\n",
            "Requirement already satisfied: urllib3!=1.25.0,!=1.25.1,<1.26,>=1.21.1 in /usr/local/lib/python3.8/dist-packages (from requests->lightfm<2.0,>=1.16->rectools) (1.24.3)\n",
            "Requirement already satisfied: idna<3,>=2.5 in /usr/local/lib/python3.8/dist-packages (from requests->lightfm<2.0,>=1.16->rectools) (2.10)\n",
            "Requirement already satisfied: threadpoolctl>=2.0.0 in /usr/local/lib/python3.8/dist-packages (from scikit-learn->lightfm<2.0,>=1.16->rectools) (3.1.0)\n",
            "Requirement already satisfied: joblib>=0.11 in /usr/local/lib/python3.8/dist-packages (from scikit-learn->lightfm<2.0,>=1.16->rectools) (1.2.0)\n",
            "Looking in indexes: https://pypi.org/simple, https://us-python.pkg.dev/colab-wheels/public/simple/\n",
            "Requirement already satisfied: seaborn in /usr/local/lib/python3.8/dist-packages (0.11.2)\n",
            "Requirement already satisfied: pandas>=0.23 in /usr/local/lib/python3.8/dist-packages (from seaborn) (1.3.5)\n",
            "Requirement already satisfied: matplotlib>=2.2 in /usr/local/lib/python3.8/dist-packages (from seaborn) (3.2.2)\n",
            "Requirement already satisfied: numpy>=1.15 in /usr/local/lib/python3.8/dist-packages (from seaborn) (1.21.6)\n",
            "Requirement already satisfied: scipy>=1.0 in /usr/local/lib/python3.8/dist-packages (from seaborn) (1.7.3)\n",
            "Requirement already satisfied: cycler>=0.10 in /usr/local/lib/python3.8/dist-packages (from matplotlib>=2.2->seaborn) (0.11.0)\n",
            "Requirement already satisfied: pyparsing!=2.0.4,!=2.1.2,!=2.1.6,>=2.0.1 in /usr/local/lib/python3.8/dist-packages (from matplotlib>=2.2->seaborn) (3.0.9)\n",
            "Requirement already satisfied: kiwisolver>=1.0.1 in /usr/local/lib/python3.8/dist-packages (from matplotlib>=2.2->seaborn) (1.4.4)\n",
            "Requirement already satisfied: python-dateutil>=2.1 in /usr/local/lib/python3.8/dist-packages (from matplotlib>=2.2->seaborn) (2.8.2)\n",
            "Requirement already satisfied: pytz>=2017.3 in /usr/local/lib/python3.8/dist-packages (from pandas>=0.23->seaborn) (2022.6)\n",
            "Requirement already satisfied: six>=1.5 in /usr/local/lib/python3.8/dist-packages (from python-dateutil>=2.1->matplotlib>=2.2->seaborn) (1.15.0)\n",
            "Looking in indexes: https://pypi.org/simple, https://us-python.pkg.dev/colab-wheels/public/simple/\n",
            "Requirement already satisfied: ipykernel in /usr/local/lib/python3.8/dist-packages (5.3.4)\n",
            "Requirement already satisfied: ipython>=5.0.0 in /usr/local/lib/python3.8/dist-packages (from ipykernel) (7.9.0)\n",
            "Requirement already satisfied: jupyter-client in /usr/local/lib/python3.8/dist-packages (from ipykernel) (6.1.12)\n",
            "Requirement already satisfied: traitlets>=4.1.0 in /usr/local/lib/python3.8/dist-packages (from ipykernel) (5.6.0)\n",
            "Requirement already satisfied: tornado>=4.2 in /usr/local/lib/python3.8/dist-packages (from ipykernel) (6.0.4)\n",
            "Requirement already satisfied: setuptools>=18.5 in /usr/local/lib/python3.8/dist-packages (from ipython>=5.0.0->ipykernel) (57.4.0)\n",
            "Requirement already satisfied: pickleshare in /usr/local/lib/python3.8/dist-packages (from ipython>=5.0.0->ipykernel) (0.7.5)\n",
            "Requirement already satisfied: backcall in /usr/local/lib/python3.8/dist-packages (from ipython>=5.0.0->ipykernel) (0.2.0)\n",
            "Requirement already satisfied: prompt-toolkit<2.1.0,>=2.0.0 in /usr/local/lib/python3.8/dist-packages (from ipython>=5.0.0->ipykernel) (2.0.10)\n",
            "Requirement already satisfied: pexpect in /usr/local/lib/python3.8/dist-packages (from ipython>=5.0.0->ipykernel) (4.8.0)\n",
            "Requirement already satisfied: jedi>=0.10 in /usr/local/lib/python3.8/dist-packages (from ipython>=5.0.0->ipykernel) (0.18.2)\n",
            "Requirement already satisfied: pygments in /usr/local/lib/python3.8/dist-packages (from ipython>=5.0.0->ipykernel) (2.6.1)\n",
            "Requirement already satisfied: decorator in /usr/local/lib/python3.8/dist-packages (from ipython>=5.0.0->ipykernel) (4.4.2)\n",
            "Requirement already satisfied: parso<0.9.0,>=0.8.0 in /usr/local/lib/python3.8/dist-packages (from jedi>=0.10->ipython>=5.0.0->ipykernel) (0.8.3)\n",
            "Requirement already satisfied: six>=1.9.0 in /usr/local/lib/python3.8/dist-packages (from prompt-toolkit<2.1.0,>=2.0.0->ipython>=5.0.0->ipykernel) (1.15.0)\n",
            "Requirement already satisfied: wcwidth in /usr/local/lib/python3.8/dist-packages (from prompt-toolkit<2.1.0,>=2.0.0->ipython>=5.0.0->ipykernel) (0.2.5)\n",
            "Requirement already satisfied: python-dateutil>=2.1 in /usr/local/lib/python3.8/dist-packages (from jupyter-client->ipykernel) (2.8.2)\n",
            "Requirement already satisfied: jupyter-core>=4.6.0 in /usr/local/lib/python3.8/dist-packages (from jupyter-client->ipykernel) (5.1.0)\n",
            "Requirement already satisfied: pyzmq>=13 in /usr/local/lib/python3.8/dist-packages (from jupyter-client->ipykernel) (23.2.1)\n",
            "Requirement already satisfied: platformdirs>=2.5 in /usr/local/lib/python3.8/dist-packages (from jupyter-core>=4.6.0->jupyter-client->ipykernel) (2.5.4)\n",
            "Requirement already satisfied: ptyprocess>=0.5 in /usr/local/lib/python3.8/dist-packages (from pexpect->ipython>=5.0.0->ipykernel) (0.7.0)\n",
            "Looking in indexes: https://pypi.org/simple, https://us-python.pkg.dev/colab-wheels/public/simple/\n",
            "Requirement already satisfied: Jinja2 in /usr/local/lib/python3.8/dist-packages (2.11.3)\n",
            "Requirement already satisfied: MarkupSafe>=0.23 in /usr/local/lib/python3.8/dist-packages (from Jinja2) (2.0.1)\n",
            "Looking in indexes: https://pypi.org/simple, https://us-python.pkg.dev/colab-wheels/public/simple/\n",
            "Requirement already satisfied: hnswlib in /usr/local/lib/python3.8/dist-packages (0.6.2)\n",
            "Requirement already satisfied: numpy in /usr/local/lib/python3.8/dist-packages (from hnswlib) (1.21.6)\n",
            "Looking in indexes: https://pypi.org/simple, https://us-python.pkg.dev/colab-wheels/public/simple/\n",
            "Requirement already satisfied: implicit in /usr/local/lib/python3.8/dist-packages (0.4.4)\n",
            "Requirement already satisfied: numpy in /usr/local/lib/python3.8/dist-packages (from implicit) (1.21.6)\n",
            "Requirement already satisfied: tqdm>=4.27 in /usr/local/lib/python3.8/dist-packages (from implicit) (4.64.1)\n",
            "Requirement already satisfied: scipy>=0.16 in /usr/local/lib/python3.8/dist-packages (from implicit) (1.7.3)\n",
            "Looking in indexes: https://pypi.org/simple, https://us-python.pkg.dev/colab-wheels/public/simple/\n",
            "Requirement already satisfied: optuna in /usr/local/lib/python3.8/dist-packages (3.0.4)\n",
            "Requirement already satisfied: cmaes>=0.8.2 in /usr/local/lib/python3.8/dist-packages (from optuna) (0.9.0)\n",
            "Requirement already satisfied: packaging>=20.0 in /usr/local/lib/python3.8/dist-packages (from optuna) (21.3)\n",
            "Requirement already satisfied: PyYAML in /usr/local/lib/python3.8/dist-packages (from optuna) (6.0)\n",
            "Requirement already satisfied: scipy<1.9.0,>=1.7.0 in /usr/local/lib/python3.8/dist-packages (from optuna) (1.7.3)\n",
            "Requirement already satisfied: tqdm in /usr/local/lib/python3.8/dist-packages (from optuna) (4.64.1)\n",
            "Requirement already satisfied: alembic>=1.5.0 in /usr/local/lib/python3.8/dist-packages (from optuna) (1.8.1)\n",
            "Requirement already satisfied: sqlalchemy>=1.3.0 in /usr/local/lib/python3.8/dist-packages (from optuna) (1.4.44)\n",
            "Requirement already satisfied: cliff in /usr/local/lib/python3.8/dist-packages (from optuna) (4.1.0)\n",
            "Requirement already satisfied: importlib-metadata<5.0.0 in /usr/local/lib/python3.8/dist-packages (from optuna) (4.13.0)\n",
            "Requirement already satisfied: colorlog in /usr/local/lib/python3.8/dist-packages (from optuna) (6.7.0)\n",
            "Requirement already satisfied: numpy in /usr/local/lib/python3.8/dist-packages (from optuna) (1.21.6)\n",
            "Requirement already satisfied: importlib-resources in /usr/local/lib/python3.8/dist-packages (from alembic>=1.5.0->optuna) (5.10.0)\n",
            "Requirement already satisfied: Mako in /usr/local/lib/python3.8/dist-packages (from alembic>=1.5.0->optuna) (1.2.4)\n",
            "Requirement already satisfied: zipp>=0.5 in /usr/local/lib/python3.8/dist-packages (from importlib-metadata<5.0.0->optuna) (3.11.0)\n",
            "Requirement already satisfied: pyparsing!=3.0.5,>=2.0.2 in /usr/local/lib/python3.8/dist-packages (from packaging>=20.0->optuna) (3.0.9)\n",
            "Requirement already satisfied: greenlet!=0.4.17 in /usr/local/lib/python3.8/dist-packages (from sqlalchemy>=1.3.0->optuna) (2.0.1)\n",
            "Requirement already satisfied: PrettyTable>=0.7.2 in /usr/local/lib/python3.8/dist-packages (from cliff->optuna) (3.5.0)\n",
            "Requirement already satisfied: stevedore>=2.0.1 in /usr/local/lib/python3.8/dist-packages (from cliff->optuna) (4.1.1)\n",
            "Requirement already satisfied: cmd2>=1.0.0 in /usr/local/lib/python3.8/dist-packages (from cliff->optuna) (2.4.2)\n",
            "Requirement already satisfied: autopage>=0.4.0 in /usr/local/lib/python3.8/dist-packages (from cliff->optuna) (0.5.1)\n",
            "Requirement already satisfied: pyperclip>=1.6 in /usr/local/lib/python3.8/dist-packages (from cmd2>=1.0.0->cliff->optuna) (1.8.2)\n",
            "Requirement already satisfied: attrs>=16.3.0 in /usr/local/lib/python3.8/dist-packages (from cmd2>=1.0.0->cliff->optuna) (21.4.0)\n",
            "Requirement already satisfied: wcwidth>=0.1.7 in /usr/local/lib/python3.8/dist-packages (from cmd2>=1.0.0->cliff->optuna) (0.2.5)\n",
            "Requirement already satisfied: pbr!=2.1.0,>=2.0.0 in /usr/local/lib/python3.8/dist-packages (from stevedore>=2.0.1->cliff->optuna) (5.11.0)\n",
            "Requirement already satisfied: MarkupSafe>=0.9.2 in /usr/local/lib/python3.8/dist-packages (from Mako->alembic>=1.5.0->optuna) (2.0.1)\n"
          ]
        }
      ]
    },
    {
      "cell_type": "code",
      "source": [
        "!mkdir ../data\n",
        "!wget https://storage.yandexcloud.net/itmo-recsys-public-data/kion_train.zip -O ../data/data_original.zip\n",
        "!unzip ../data/data_original.zip -d ../data"
      ],
      "metadata": {
        "colab": {
          "base_uri": "https://localhost:8080/"
        },
        "id": "0Q6ngObP0pMZ",
        "outputId": "7bfb30fb-b639-497d-c7fd-8b476cfd90ba"
      },
      "execution_count": 44,
      "outputs": [
        {
          "output_type": "stream",
          "name": "stdout",
          "text": [
            "mkdir: cannot create directory ‘../data’: File exists\n",
            "--2022-12-13 16:15:25--  https://storage.yandexcloud.net/itmo-recsys-public-data/kion_train.zip\n",
            "Resolving storage.yandexcloud.net (storage.yandexcloud.net)... 213.180.193.243, 2a02:6b8::1d9\n",
            "Connecting to storage.yandexcloud.net (storage.yandexcloud.net)|213.180.193.243|:443... connected.\n",
            "HTTP request sent, awaiting response... 200 OK\n",
            "Length: 78795385 (75M) [application/zip]\n",
            "Saving to: ‘../data/data_original.zip’\n",
            "\n",
            "../data/data_origin 100%[===================>]  75.14M  8.49MB/s    in 9.5s    \n",
            "\n",
            "2022-12-13 16:15:37 (7.90 MB/s) - ‘../data/data_original.zip’ saved [78795385/78795385]\n",
            "\n",
            "Archive:  ../data/data_original.zip\n",
            "replace ../data/kion_train/interactions.csv? [y]es, [n]o, [A]ll, [N]one, [r]ename: A\n",
            "  inflating: ../data/kion_train/interactions.csv  \n",
            "  inflating: ../data/__MACOSX/kion_train/._interactions.csv  \n",
            "  inflating: ../data/kion_train/users.csv  \n",
            "  inflating: ../data/__MACOSX/kion_train/._users.csv  \n",
            "  inflating: ../data/kion_train/items.csv  \n",
            "  inflating: ../data/__MACOSX/kion_train/._items.csv  \n"
          ]
        }
      ]
    },
    {
      "cell_type": "code",
      "execution_count": 45,
      "metadata": {
        "id": "PgK9MP_l0h-l"
      },
      "outputs": [],
      "source": [
        "os.environ[\"OPENBLAS_NUM_THREADS\"] = \"1\"  # For implicit ALS"
      ]
    },
    {
      "cell_type": "code",
      "execution_count": 46,
      "metadata": {
        "id": "ly-zcvYr0h-l"
      },
      "outputs": [],
      "source": [
        "import warnings\n",
        "warnings.filterwarnings('ignore')"
      ]
    },
    {
      "cell_type": "code",
      "execution_count": 47,
      "metadata": {
        "id": "jgWInkY60h-l"
      },
      "outputs": [],
      "source": [
        "import pandas as pd\n",
        "import numpy as np\n",
        "\n",
        "from implicit.als import AlternatingLeastSquares\n",
        "\n",
        "from rectools.metrics import Precision, Recall, MAP, calc_metrics\n",
        "from rectools.models import PopularModel, RandomModel, ImplicitALSWrapperModel\n",
        "from rectools import Columns\n",
        "from rectools.dataset import Dataset\n",
        "from rectools.models import ImplicitALSWrapperModel, LightFMWrapperModel\n",
        "\n",
        "import matplotlib.pyplot as plt\n",
        "import seaborn as sns\n",
        "\n",
        "import matplotlib.pyplot as plt\n",
        "from pathlib import Path\n",
        "import typing as tp\n",
        "from tqdm import tqdm\n",
        "\n",
        "from lightfm import LightFM\n",
        "\n",
        "from implicit.bpr import BayesianPersonalizedRanking\n",
        "\n",
        "from implicit.lmf import LogisticMatrixFactorization\n",
        "\n",
        "import optuna"
      ]
    },
    {
      "cell_type": "code",
      "execution_count": 47,
      "metadata": {
        "id": "qjFIblXA0h-m"
      },
      "outputs": [],
      "source": []
    },
    {
      "cell_type": "markdown",
      "metadata": {
        "id": "RBmyCnOI0h-m"
      },
      "source": [
        "# LOAD DATA "
      ]
    },
    {
      "cell_type": "code",
      "execution_count": 48,
      "metadata": {
        "colab": {
          "base_uri": "https://localhost:8080/"
        },
        "id": "p9D6gDLM0h-n",
        "outputId": "7656ac61-2059-4cb4-ec44-268f01961a60"
      },
      "outputs": [
        {
          "output_type": "stream",
          "name": "stdout",
          "text": [
            "CPU times: user 2.65 s, sys: 194 ms, total: 2.85 s\n",
            "Wall time: 2.93 s\n"
          ]
        }
      ],
      "source": [
        "%%time\n",
        "interactions = pd.read_csv('../data/kion_train/interactions.csv') \n",
        "users = pd.read_csv('../data/kion_train/users.csv') \n",
        "items = pd.read_csv('../data/kion_train/items.csv')"
      ]
    },
    {
      "cell_type": "markdown",
      "metadata": {
        "id": "yXNJcZC90h-o"
      },
      "source": [
        "# Preprocess"
      ]
    },
    {
      "cell_type": "code",
      "execution_count": 49,
      "metadata": {
        "id": "sqSHxBhS0h-o"
      },
      "outputs": [],
      "source": [
        "Columns.Datetime = 'last_watch_dt'"
      ]
    },
    {
      "cell_type": "code",
      "execution_count": 50,
      "metadata": {
        "id": "t_3pLn3G0h-o"
      },
      "outputs": [],
      "source": [
        "interactions.drop(interactions[interactions[Columns.Datetime].str.len() != 10].index, inplace=True)"
      ]
    },
    {
      "cell_type": "code",
      "execution_count": 51,
      "metadata": {
        "id": "iCS691Jr0h-o"
      },
      "outputs": [],
      "source": [
        "interactions[Columns.Datetime] = pd.to_datetime(interactions[Columns.Datetime], format='%Y-%m-%d')"
      ]
    },
    {
      "cell_type": "code",
      "execution_count": 52,
      "metadata": {
        "id": "it_igZLt0h-p"
      },
      "outputs": [],
      "source": [
        "max_date = interactions[Columns.Datetime].max()"
      ]
    },
    {
      "cell_type": "code",
      "execution_count": 53,
      "metadata": {
        "id": "Sj0xwh5a0h-p"
      },
      "outputs": [],
      "source": [
        "interactions[Columns.Weight] = np.where(interactions['watched_pct'] > 10, 3, 1)"
      ]
    },
    {
      "cell_type": "code",
      "execution_count": 54,
      "metadata": {
        "colab": {
          "base_uri": "https://localhost:8080/"
        },
        "id": "qrEjzuQz0h-p",
        "outputId": "b544b4ad-e0f0-43dc-d57a-a8c2235d827b"
      },
      "outputs": [
        {
          "output_type": "stream",
          "name": "stdout",
          "text": [
            "train: (4985269, 6)\n",
            "test: (490982, 6)\n"
          ]
        }
      ],
      "source": [
        "train = interactions[interactions[Columns.Datetime] < max_date - pd.Timedelta(days=7)].copy()\n",
        "test = interactions[interactions[Columns.Datetime] >= max_date - pd.Timedelta(days=7)].copy()\n",
        "\n",
        "print(f\"train: {train.shape}\")\n",
        "print(f\"test: {test.shape}\")"
      ]
    },
    {
      "cell_type": "code",
      "execution_count": 55,
      "metadata": {
        "id": "idcKyDKl0h-p"
      },
      "outputs": [],
      "source": [
        "train.drop(train.query(\"total_dur < 300\").index, inplace=True)"
      ]
    },
    {
      "cell_type": "code",
      "execution_count": 56,
      "metadata": {
        "id": "m_nDqDNQ0h-q"
      },
      "outputs": [],
      "source": [
        "# отфильтруем холодных пользователей из теста\n",
        "cold_users = set(test[Columns.User]) - set(train[Columns.User])"
      ]
    },
    {
      "cell_type": "code",
      "execution_count": 57,
      "metadata": {
        "id": "jlkFucC40h-q"
      },
      "outputs": [],
      "source": [
        "test.drop(test[test[Columns.User].isin(cold_users)].index, inplace=True)"
      ]
    },
    {
      "cell_type": "markdown",
      "metadata": {
        "id": "Sd7595ox0h-q"
      },
      "source": [
        "# Prepare features"
      ]
    },
    {
      "cell_type": "markdown",
      "metadata": {
        "id": "VcYD6E1Z0h-q"
      },
      "source": [
        "## User features"
      ]
    },
    {
      "cell_type": "code",
      "execution_count": 58,
      "metadata": {
        "colab": {
          "base_uri": "https://localhost:8080/"
        },
        "id": "i0QXixpL0h-q",
        "outputId": "babad10d-d232-4f37-9305-f920f250eada"
      },
      "outputs": [
        {
          "output_type": "execute_result",
          "data": {
            "text/plain": [
              "user_id         0\n",
              "age         14095\n",
              "income      14776\n",
              "sex         13831\n",
              "kids_flg        0\n",
              "dtype: int64"
            ]
          },
          "metadata": {},
          "execution_count": 58
        }
      ],
      "source": [
        "users.isnull().sum()"
      ]
    },
    {
      "cell_type": "code",
      "execution_count": 59,
      "metadata": {
        "id": "KYmUoGOU0h-r"
      },
      "outputs": [],
      "source": [
        "users.fillna('Unknown', inplace=True)"
      ]
    },
    {
      "cell_type": "code",
      "execution_count": 60,
      "metadata": {
        "colab": {
          "base_uri": "https://localhost:8080/"
        },
        "id": "dnP3er8r0h-r",
        "outputId": "98a9d800-c63c-45d1-b84c-b98ac584179b"
      },
      "outputs": [
        {
          "output_type": "execute_result",
          "data": {
            "text/plain": [
              "user_id     840197\n",
              "age              7\n",
              "income           7\n",
              "sex              3\n",
              "kids_flg         2\n",
              "dtype: int64"
            ]
          },
          "metadata": {},
          "execution_count": 60
        }
      ],
      "source": [
        "users.nunique()"
      ]
    },
    {
      "cell_type": "code",
      "execution_count": 61,
      "metadata": {
        "id": "qZt5xnRm0h-r"
      },
      "outputs": [],
      "source": [
        "users = users.loc[users[Columns.User].isin(train[Columns.User])].copy()"
      ]
    },
    {
      "cell_type": "code",
      "execution_count": 62,
      "metadata": {
        "colab": {
          "base_uri": "https://localhost:8080/",
          "height": 0
        },
        "id": "SnaymXmS0h-r",
        "outputId": "bb25015a-187a-4bff-b065-4654c7357710"
      },
      "outputs": [
        {
          "output_type": "execute_result",
          "data": {
            "text/plain": [
              "        user_id         age        income sex  kids_flg\n",
              "0        973171   age_25_34  income_60_90   М         1\n",
              "1        962099   age_18_24  income_20_40   М         0\n",
              "3        721985   age_45_54  income_20_40   Ж         0\n",
              "4        704055   age_35_44  income_60_90   Ж         0\n",
              "5       1037719   age_45_54  income_60_90   М         0\n",
              "...         ...         ...           ...  ..       ...\n",
              "840184   529394   age_25_34  income_40_60   Ж         0\n",
              "840186    80113   age_25_34  income_40_60   Ж         0\n",
              "840188   312839  age_65_inf  income_60_90   Ж         0\n",
              "840189   191349   age_45_54  income_40_60   М         1\n",
              "840190   393868   age_25_34  income_20_40   М         0\n",
              "\n",
              "[586668 rows x 5 columns]"
            ],
            "text/html": [
              "\n",
              "  <div id=\"df-abbdde80-5dcb-476c-b77f-1790149079a6\">\n",
              "    <div class=\"colab-df-container\">\n",
              "      <div>\n",
              "<style scoped>\n",
              "    .dataframe tbody tr th:only-of-type {\n",
              "        vertical-align: middle;\n",
              "    }\n",
              "\n",
              "    .dataframe tbody tr th {\n",
              "        vertical-align: top;\n",
              "    }\n",
              "\n",
              "    .dataframe thead th {\n",
              "        text-align: right;\n",
              "    }\n",
              "</style>\n",
              "<table border=\"1\" class=\"dataframe\">\n",
              "  <thead>\n",
              "    <tr style=\"text-align: right;\">\n",
              "      <th></th>\n",
              "      <th>user_id</th>\n",
              "      <th>age</th>\n",
              "      <th>income</th>\n",
              "      <th>sex</th>\n",
              "      <th>kids_flg</th>\n",
              "    </tr>\n",
              "  </thead>\n",
              "  <tbody>\n",
              "    <tr>\n",
              "      <th>0</th>\n",
              "      <td>973171</td>\n",
              "      <td>age_25_34</td>\n",
              "      <td>income_60_90</td>\n",
              "      <td>М</td>\n",
              "      <td>1</td>\n",
              "    </tr>\n",
              "    <tr>\n",
              "      <th>1</th>\n",
              "      <td>962099</td>\n",
              "      <td>age_18_24</td>\n",
              "      <td>income_20_40</td>\n",
              "      <td>М</td>\n",
              "      <td>0</td>\n",
              "    </tr>\n",
              "    <tr>\n",
              "      <th>3</th>\n",
              "      <td>721985</td>\n",
              "      <td>age_45_54</td>\n",
              "      <td>income_20_40</td>\n",
              "      <td>Ж</td>\n",
              "      <td>0</td>\n",
              "    </tr>\n",
              "    <tr>\n",
              "      <th>4</th>\n",
              "      <td>704055</td>\n",
              "      <td>age_35_44</td>\n",
              "      <td>income_60_90</td>\n",
              "      <td>Ж</td>\n",
              "      <td>0</td>\n",
              "    </tr>\n",
              "    <tr>\n",
              "      <th>5</th>\n",
              "      <td>1037719</td>\n",
              "      <td>age_45_54</td>\n",
              "      <td>income_60_90</td>\n",
              "      <td>М</td>\n",
              "      <td>0</td>\n",
              "    </tr>\n",
              "    <tr>\n",
              "      <th>...</th>\n",
              "      <td>...</td>\n",
              "      <td>...</td>\n",
              "      <td>...</td>\n",
              "      <td>...</td>\n",
              "      <td>...</td>\n",
              "    </tr>\n",
              "    <tr>\n",
              "      <th>840184</th>\n",
              "      <td>529394</td>\n",
              "      <td>age_25_34</td>\n",
              "      <td>income_40_60</td>\n",
              "      <td>Ж</td>\n",
              "      <td>0</td>\n",
              "    </tr>\n",
              "    <tr>\n",
              "      <th>840186</th>\n",
              "      <td>80113</td>\n",
              "      <td>age_25_34</td>\n",
              "      <td>income_40_60</td>\n",
              "      <td>Ж</td>\n",
              "      <td>0</td>\n",
              "    </tr>\n",
              "    <tr>\n",
              "      <th>840188</th>\n",
              "      <td>312839</td>\n",
              "      <td>age_65_inf</td>\n",
              "      <td>income_60_90</td>\n",
              "      <td>Ж</td>\n",
              "      <td>0</td>\n",
              "    </tr>\n",
              "    <tr>\n",
              "      <th>840189</th>\n",
              "      <td>191349</td>\n",
              "      <td>age_45_54</td>\n",
              "      <td>income_40_60</td>\n",
              "      <td>М</td>\n",
              "      <td>1</td>\n",
              "    </tr>\n",
              "    <tr>\n",
              "      <th>840190</th>\n",
              "      <td>393868</td>\n",
              "      <td>age_25_34</td>\n",
              "      <td>income_20_40</td>\n",
              "      <td>М</td>\n",
              "      <td>0</td>\n",
              "    </tr>\n",
              "  </tbody>\n",
              "</table>\n",
              "<p>586668 rows × 5 columns</p>\n",
              "</div>\n",
              "      <button class=\"colab-df-convert\" onclick=\"convertToInteractive('df-abbdde80-5dcb-476c-b77f-1790149079a6')\"\n",
              "              title=\"Convert this dataframe to an interactive table.\"\n",
              "              style=\"display:none;\">\n",
              "        \n",
              "  <svg xmlns=\"http://www.w3.org/2000/svg\" height=\"24px\"viewBox=\"0 0 24 24\"\n",
              "       width=\"24px\">\n",
              "    <path d=\"M0 0h24v24H0V0z\" fill=\"none\"/>\n",
              "    <path d=\"M18.56 5.44l.94 2.06.94-2.06 2.06-.94-2.06-.94-.94-2.06-.94 2.06-2.06.94zm-11 1L8.5 8.5l.94-2.06 2.06-.94-2.06-.94L8.5 2.5l-.94 2.06-2.06.94zm10 10l.94 2.06.94-2.06 2.06-.94-2.06-.94-.94-2.06-.94 2.06-2.06.94z\"/><path d=\"M17.41 7.96l-1.37-1.37c-.4-.4-.92-.59-1.43-.59-.52 0-1.04.2-1.43.59L10.3 9.45l-7.72 7.72c-.78.78-.78 2.05 0 2.83L4 21.41c.39.39.9.59 1.41.59.51 0 1.02-.2 1.41-.59l7.78-7.78 2.81-2.81c.8-.78.8-2.07 0-2.86zM5.41 20L4 18.59l7.72-7.72 1.47 1.35L5.41 20z\"/>\n",
              "  </svg>\n",
              "      </button>\n",
              "      \n",
              "  <style>\n",
              "    .colab-df-container {\n",
              "      display:flex;\n",
              "      flex-wrap:wrap;\n",
              "      gap: 12px;\n",
              "    }\n",
              "\n",
              "    .colab-df-convert {\n",
              "      background-color: #E8F0FE;\n",
              "      border: none;\n",
              "      border-radius: 50%;\n",
              "      cursor: pointer;\n",
              "      display: none;\n",
              "      fill: #1967D2;\n",
              "      height: 32px;\n",
              "      padding: 0 0 0 0;\n",
              "      width: 32px;\n",
              "    }\n",
              "\n",
              "    .colab-df-convert:hover {\n",
              "      background-color: #E2EBFA;\n",
              "      box-shadow: 0px 1px 2px rgba(60, 64, 67, 0.3), 0px 1px 3px 1px rgba(60, 64, 67, 0.15);\n",
              "      fill: #174EA6;\n",
              "    }\n",
              "\n",
              "    [theme=dark] .colab-df-convert {\n",
              "      background-color: #3B4455;\n",
              "      fill: #D2E3FC;\n",
              "    }\n",
              "\n",
              "    [theme=dark] .colab-df-convert:hover {\n",
              "      background-color: #434B5C;\n",
              "      box-shadow: 0px 1px 3px 1px rgba(0, 0, 0, 0.15);\n",
              "      filter: drop-shadow(0px 1px 2px rgba(0, 0, 0, 0.3));\n",
              "      fill: #FFFFFF;\n",
              "    }\n",
              "  </style>\n",
              "\n",
              "      <script>\n",
              "        const buttonEl =\n",
              "          document.querySelector('#df-abbdde80-5dcb-476c-b77f-1790149079a6 button.colab-df-convert');\n",
              "        buttonEl.style.display =\n",
              "          google.colab.kernel.accessAllowed ? 'block' : 'none';\n",
              "\n",
              "        async function convertToInteractive(key) {\n",
              "          const element = document.querySelector('#df-abbdde80-5dcb-476c-b77f-1790149079a6');\n",
              "          const dataTable =\n",
              "            await google.colab.kernel.invokeFunction('convertToInteractive',\n",
              "                                                     [key], {});\n",
              "          if (!dataTable) return;\n",
              "\n",
              "          const docLinkHtml = 'Like what you see? Visit the ' +\n",
              "            '<a target=\"_blank\" href=https://colab.research.google.com/notebooks/data_table.ipynb>data table notebook</a>'\n",
              "            + ' to learn more about interactive tables.';\n",
              "          element.innerHTML = '';\n",
              "          dataTable['output_type'] = 'display_data';\n",
              "          await google.colab.output.renderOutput(dataTable, element);\n",
              "          const docLink = document.createElement('div');\n",
              "          docLink.innerHTML = docLinkHtml;\n",
              "          element.appendChild(docLink);\n",
              "        }\n",
              "      </script>\n",
              "    </div>\n",
              "  </div>\n",
              "  "
            ]
          },
          "metadata": {},
          "execution_count": 62
        }
      ],
      "source": [
        "users"
      ]
    },
    {
      "cell_type": "code",
      "execution_count": 63,
      "metadata": {
        "colab": {
          "base_uri": "https://localhost:8080/",
          "height": 0
        },
        "id": "MaT4tzOA0h-s",
        "outputId": "f552c478-9604-418a-bc0c-5b6370e7230c"
      },
      "outputs": [
        {
          "output_type": "execute_result",
          "data": {
            "text/plain": [
              "        id value feature\n",
              "0   973171     М     sex\n",
              "1   962099     М     sex\n",
              "3   721985     Ж     sex\n",
              "4   704055     Ж     sex\n",
              "5  1037719     М     sex"
            ],
            "text/html": [
              "\n",
              "  <div id=\"df-60235f61-87b7-48a7-921f-4322704e3325\">\n",
              "    <div class=\"colab-df-container\">\n",
              "      <div>\n",
              "<style scoped>\n",
              "    .dataframe tbody tr th:only-of-type {\n",
              "        vertical-align: middle;\n",
              "    }\n",
              "\n",
              "    .dataframe tbody tr th {\n",
              "        vertical-align: top;\n",
              "    }\n",
              "\n",
              "    .dataframe thead th {\n",
              "        text-align: right;\n",
              "    }\n",
              "</style>\n",
              "<table border=\"1\" class=\"dataframe\">\n",
              "  <thead>\n",
              "    <tr style=\"text-align: right;\">\n",
              "      <th></th>\n",
              "      <th>id</th>\n",
              "      <th>value</th>\n",
              "      <th>feature</th>\n",
              "    </tr>\n",
              "  </thead>\n",
              "  <tbody>\n",
              "    <tr>\n",
              "      <th>0</th>\n",
              "      <td>973171</td>\n",
              "      <td>М</td>\n",
              "      <td>sex</td>\n",
              "    </tr>\n",
              "    <tr>\n",
              "      <th>1</th>\n",
              "      <td>962099</td>\n",
              "      <td>М</td>\n",
              "      <td>sex</td>\n",
              "    </tr>\n",
              "    <tr>\n",
              "      <th>3</th>\n",
              "      <td>721985</td>\n",
              "      <td>Ж</td>\n",
              "      <td>sex</td>\n",
              "    </tr>\n",
              "    <tr>\n",
              "      <th>4</th>\n",
              "      <td>704055</td>\n",
              "      <td>Ж</td>\n",
              "      <td>sex</td>\n",
              "    </tr>\n",
              "    <tr>\n",
              "      <th>5</th>\n",
              "      <td>1037719</td>\n",
              "      <td>М</td>\n",
              "      <td>sex</td>\n",
              "    </tr>\n",
              "  </tbody>\n",
              "</table>\n",
              "</div>\n",
              "      <button class=\"colab-df-convert\" onclick=\"convertToInteractive('df-60235f61-87b7-48a7-921f-4322704e3325')\"\n",
              "              title=\"Convert this dataframe to an interactive table.\"\n",
              "              style=\"display:none;\">\n",
              "        \n",
              "  <svg xmlns=\"http://www.w3.org/2000/svg\" height=\"24px\"viewBox=\"0 0 24 24\"\n",
              "       width=\"24px\">\n",
              "    <path d=\"M0 0h24v24H0V0z\" fill=\"none\"/>\n",
              "    <path d=\"M18.56 5.44l.94 2.06.94-2.06 2.06-.94-2.06-.94-.94-2.06-.94 2.06-2.06.94zm-11 1L8.5 8.5l.94-2.06 2.06-.94-2.06-.94L8.5 2.5l-.94 2.06-2.06.94zm10 10l.94 2.06.94-2.06 2.06-.94-2.06-.94-.94-2.06-.94 2.06-2.06.94z\"/><path d=\"M17.41 7.96l-1.37-1.37c-.4-.4-.92-.59-1.43-.59-.52 0-1.04.2-1.43.59L10.3 9.45l-7.72 7.72c-.78.78-.78 2.05 0 2.83L4 21.41c.39.39.9.59 1.41.59.51 0 1.02-.2 1.41-.59l7.78-7.78 2.81-2.81c.8-.78.8-2.07 0-2.86zM5.41 20L4 18.59l7.72-7.72 1.47 1.35L5.41 20z\"/>\n",
              "  </svg>\n",
              "      </button>\n",
              "      \n",
              "  <style>\n",
              "    .colab-df-container {\n",
              "      display:flex;\n",
              "      flex-wrap:wrap;\n",
              "      gap: 12px;\n",
              "    }\n",
              "\n",
              "    .colab-df-convert {\n",
              "      background-color: #E8F0FE;\n",
              "      border: none;\n",
              "      border-radius: 50%;\n",
              "      cursor: pointer;\n",
              "      display: none;\n",
              "      fill: #1967D2;\n",
              "      height: 32px;\n",
              "      padding: 0 0 0 0;\n",
              "      width: 32px;\n",
              "    }\n",
              "\n",
              "    .colab-df-convert:hover {\n",
              "      background-color: #E2EBFA;\n",
              "      box-shadow: 0px 1px 2px rgba(60, 64, 67, 0.3), 0px 1px 3px 1px rgba(60, 64, 67, 0.15);\n",
              "      fill: #174EA6;\n",
              "    }\n",
              "\n",
              "    [theme=dark] .colab-df-convert {\n",
              "      background-color: #3B4455;\n",
              "      fill: #D2E3FC;\n",
              "    }\n",
              "\n",
              "    [theme=dark] .colab-df-convert:hover {\n",
              "      background-color: #434B5C;\n",
              "      box-shadow: 0px 1px 3px 1px rgba(0, 0, 0, 0.15);\n",
              "      filter: drop-shadow(0px 1px 2px rgba(0, 0, 0, 0.3));\n",
              "      fill: #FFFFFF;\n",
              "    }\n",
              "  </style>\n",
              "\n",
              "      <script>\n",
              "        const buttonEl =\n",
              "          document.querySelector('#df-60235f61-87b7-48a7-921f-4322704e3325 button.colab-df-convert');\n",
              "        buttonEl.style.display =\n",
              "          google.colab.kernel.accessAllowed ? 'block' : 'none';\n",
              "\n",
              "        async function convertToInteractive(key) {\n",
              "          const element = document.querySelector('#df-60235f61-87b7-48a7-921f-4322704e3325');\n",
              "          const dataTable =\n",
              "            await google.colab.kernel.invokeFunction('convertToInteractive',\n",
              "                                                     [key], {});\n",
              "          if (!dataTable) return;\n",
              "\n",
              "          const docLinkHtml = 'Like what you see? Visit the ' +\n",
              "            '<a target=\"_blank\" href=https://colab.research.google.com/notebooks/data_table.ipynb>data table notebook</a>'\n",
              "            + ' to learn more about interactive tables.';\n",
              "          element.innerHTML = '';\n",
              "          dataTable['output_type'] = 'display_data';\n",
              "          await google.colab.output.renderOutput(dataTable, element);\n",
              "          const docLink = document.createElement('div');\n",
              "          docLink.innerHTML = docLinkHtml;\n",
              "          element.appendChild(docLink);\n",
              "        }\n",
              "      </script>\n",
              "    </div>\n",
              "  </div>\n",
              "  "
            ]
          },
          "metadata": {},
          "execution_count": 63
        }
      ],
      "source": [
        "user_features_frames = []\n",
        "for feature in [\"sex\", \"age\", \"income\"]:\n",
        "    feature_frame = users.reindex(columns=[Columns.User, feature])\n",
        "    feature_frame.columns = [\"id\", \"value\"]\n",
        "    feature_frame[\"feature\"] = feature\n",
        "    user_features_frames.append(feature_frame)\n",
        "user_features = pd.concat(user_features_frames)\n",
        "user_features.head()"
      ]
    },
    {
      "cell_type": "code",
      "execution_count": 64,
      "metadata": {
        "colab": {
          "base_uri": "https://localhost:8080/",
          "height": 0
        },
        "id": "UhZNiovv0h-s",
        "outputId": "c01d82bb-ad1b-4007-cd01-c5eb0aa74007"
      },
      "outputs": [
        {
          "output_type": "execute_result",
          "data": {
            "text/plain": [
              "       id         value feature\n",
              "0  973171             М     sex\n",
              "0  973171     age_25_34     age\n",
              "0  973171  income_60_90  income"
            ],
            "text/html": [
              "\n",
              "  <div id=\"df-01aa1c92-e7ae-401f-986e-217ccb8567c6\">\n",
              "    <div class=\"colab-df-container\">\n",
              "      <div>\n",
              "<style scoped>\n",
              "    .dataframe tbody tr th:only-of-type {\n",
              "        vertical-align: middle;\n",
              "    }\n",
              "\n",
              "    .dataframe tbody tr th {\n",
              "        vertical-align: top;\n",
              "    }\n",
              "\n",
              "    .dataframe thead th {\n",
              "        text-align: right;\n",
              "    }\n",
              "</style>\n",
              "<table border=\"1\" class=\"dataframe\">\n",
              "  <thead>\n",
              "    <tr style=\"text-align: right;\">\n",
              "      <th></th>\n",
              "      <th>id</th>\n",
              "      <th>value</th>\n",
              "      <th>feature</th>\n",
              "    </tr>\n",
              "  </thead>\n",
              "  <tbody>\n",
              "    <tr>\n",
              "      <th>0</th>\n",
              "      <td>973171</td>\n",
              "      <td>М</td>\n",
              "      <td>sex</td>\n",
              "    </tr>\n",
              "    <tr>\n",
              "      <th>0</th>\n",
              "      <td>973171</td>\n",
              "      <td>age_25_34</td>\n",
              "      <td>age</td>\n",
              "    </tr>\n",
              "    <tr>\n",
              "      <th>0</th>\n",
              "      <td>973171</td>\n",
              "      <td>income_60_90</td>\n",
              "      <td>income</td>\n",
              "    </tr>\n",
              "  </tbody>\n",
              "</table>\n",
              "</div>\n",
              "      <button class=\"colab-df-convert\" onclick=\"convertToInteractive('df-01aa1c92-e7ae-401f-986e-217ccb8567c6')\"\n",
              "              title=\"Convert this dataframe to an interactive table.\"\n",
              "              style=\"display:none;\">\n",
              "        \n",
              "  <svg xmlns=\"http://www.w3.org/2000/svg\" height=\"24px\"viewBox=\"0 0 24 24\"\n",
              "       width=\"24px\">\n",
              "    <path d=\"M0 0h24v24H0V0z\" fill=\"none\"/>\n",
              "    <path d=\"M18.56 5.44l.94 2.06.94-2.06 2.06-.94-2.06-.94-.94-2.06-.94 2.06-2.06.94zm-11 1L8.5 8.5l.94-2.06 2.06-.94-2.06-.94L8.5 2.5l-.94 2.06-2.06.94zm10 10l.94 2.06.94-2.06 2.06-.94-2.06-.94-.94-2.06-.94 2.06-2.06.94z\"/><path d=\"M17.41 7.96l-1.37-1.37c-.4-.4-.92-.59-1.43-.59-.52 0-1.04.2-1.43.59L10.3 9.45l-7.72 7.72c-.78.78-.78 2.05 0 2.83L4 21.41c.39.39.9.59 1.41.59.51 0 1.02-.2 1.41-.59l7.78-7.78 2.81-2.81c.8-.78.8-2.07 0-2.86zM5.41 20L4 18.59l7.72-7.72 1.47 1.35L5.41 20z\"/>\n",
              "  </svg>\n",
              "      </button>\n",
              "      \n",
              "  <style>\n",
              "    .colab-df-container {\n",
              "      display:flex;\n",
              "      flex-wrap:wrap;\n",
              "      gap: 12px;\n",
              "    }\n",
              "\n",
              "    .colab-df-convert {\n",
              "      background-color: #E8F0FE;\n",
              "      border: none;\n",
              "      border-radius: 50%;\n",
              "      cursor: pointer;\n",
              "      display: none;\n",
              "      fill: #1967D2;\n",
              "      height: 32px;\n",
              "      padding: 0 0 0 0;\n",
              "      width: 32px;\n",
              "    }\n",
              "\n",
              "    .colab-df-convert:hover {\n",
              "      background-color: #E2EBFA;\n",
              "      box-shadow: 0px 1px 2px rgba(60, 64, 67, 0.3), 0px 1px 3px 1px rgba(60, 64, 67, 0.15);\n",
              "      fill: #174EA6;\n",
              "    }\n",
              "\n",
              "    [theme=dark] .colab-df-convert {\n",
              "      background-color: #3B4455;\n",
              "      fill: #D2E3FC;\n",
              "    }\n",
              "\n",
              "    [theme=dark] .colab-df-convert:hover {\n",
              "      background-color: #434B5C;\n",
              "      box-shadow: 0px 1px 3px 1px rgba(0, 0, 0, 0.15);\n",
              "      filter: drop-shadow(0px 1px 2px rgba(0, 0, 0, 0.3));\n",
              "      fill: #FFFFFF;\n",
              "    }\n",
              "  </style>\n",
              "\n",
              "      <script>\n",
              "        const buttonEl =\n",
              "          document.querySelector('#df-01aa1c92-e7ae-401f-986e-217ccb8567c6 button.colab-df-convert');\n",
              "        buttonEl.style.display =\n",
              "          google.colab.kernel.accessAllowed ? 'block' : 'none';\n",
              "\n",
              "        async function convertToInteractive(key) {\n",
              "          const element = document.querySelector('#df-01aa1c92-e7ae-401f-986e-217ccb8567c6');\n",
              "          const dataTable =\n",
              "            await google.colab.kernel.invokeFunction('convertToInteractive',\n",
              "                                                     [key], {});\n",
              "          if (!dataTable) return;\n",
              "\n",
              "          const docLinkHtml = 'Like what you see? Visit the ' +\n",
              "            '<a target=\"_blank\" href=https://colab.research.google.com/notebooks/data_table.ipynb>data table notebook</a>'\n",
              "            + ' to learn more about interactive tables.';\n",
              "          element.innerHTML = '';\n",
              "          dataTable['output_type'] = 'display_data';\n",
              "          await google.colab.output.renderOutput(dataTable, element);\n",
              "          const docLink = document.createElement('div');\n",
              "          docLink.innerHTML = docLinkHtml;\n",
              "          element.appendChild(docLink);\n",
              "        }\n",
              "      </script>\n",
              "    </div>\n",
              "  </div>\n",
              "  "
            ]
          },
          "metadata": {},
          "execution_count": 64
        }
      ],
      "source": [
        "user_features.query(f\"id == 973171\")"
      ]
    },
    {
      "cell_type": "markdown",
      "metadata": {
        "id": "0AOWTBOu0h-s"
      },
      "source": [
        "# Item features"
      ]
    },
    {
      "cell_type": "code",
      "execution_count": 65,
      "metadata": {
        "colab": {
          "base_uri": "https://localhost:8080/"
        },
        "id": "RiUvr4eO0h-s",
        "outputId": "2a85d9e7-5a2a-4b41-e4d6-335774908120"
      },
      "outputs": [
        {
          "output_type": "execute_result",
          "data": {
            "text/plain": [
              "item_id             0\n",
              "content_type        0\n",
              "title               0\n",
              "title_orig       4745\n",
              "release_year       98\n",
              "genres              0\n",
              "countries          37\n",
              "for_kids        15397\n",
              "age_rating          2\n",
              "studios         14898\n",
              "directors        1509\n",
              "actors           2619\n",
              "description         2\n",
              "keywords          423\n",
              "dtype: int64"
            ]
          },
          "metadata": {},
          "execution_count": 65
        }
      ],
      "source": [
        "items.isnull().sum()"
      ]
    },
    {
      "cell_type": "code",
      "execution_count": 66,
      "metadata": {
        "id": "KHPixrGQ0h-s"
      },
      "outputs": [],
      "source": [
        "items = items.loc[items[Columns.Item].isin(train[Columns.Item])].copy()"
      ]
    },
    {
      "cell_type": "code",
      "execution_count": 67,
      "metadata": {
        "colab": {
          "base_uri": "https://localhost:8080/",
          "height": 0
        },
        "id": "MVsf1mC70h-t",
        "outputId": "73a9ea00-083f-43fd-c412-4eac22d6a19b"
      },
      "outputs": [
        {
          "output_type": "execute_result",
          "data": {
            "text/plain": [
              "   item_id content_type                 title      title_orig  release_year  \\\n",
              "0    10711         film        Поговори с ней  Hable con ella        2002.0   \n",
              "1     2508         film           Голые перцы    Search Party        2014.0   \n",
              "2    10716         film      Тактическая сила  Tactical Force        2011.0   \n",
              "3     7868         film                45 лет        45 Years        2015.0   \n",
              "4    16268         film  Все решает мгновение             NaN        1978.0   \n",
              "\n",
              "                                             genres       countries  for_kids  \\\n",
              "0           драмы, зарубежные, детективы, мелодрамы         Испания       NaN   \n",
              "1                  зарубежные, приключения, комедии             США       NaN   \n",
              "2  криминал, зарубежные, триллеры, боевики, комедии          Канада       NaN   \n",
              "3                      драмы, зарубежные, мелодрамы  Великобритания       NaN   \n",
              "4                драмы, спорт, советские, мелодрамы            СССР       NaN   \n",
              "\n",
              "   age_rating   studios         directors  \\\n",
              "0        16.0       NaN  Педро Альмодовар   \n",
              "1        16.0       NaN    Скот Армстронг   \n",
              "2        16.0       NaN  Адам П. Калтраро   \n",
              "3        16.0       NaN         Эндрю Хэй   \n",
              "4        12.0  Ленфильм  Виктор Садовский   \n",
              "\n",
              "                                              actors  \\\n",
              "0  Адольфо Фернандес, Ана Фернандес, Дарио Гранди...   \n",
              "1  Адам Палли, Брайан Хаски, Дж.Б. Смув, Джейсон ...   \n",
              "2  Адриан Холмс, Даррен Шалави, Джерри Вассерман,...   \n",
              "3  Александра Риддлстон-Барретт, Джеральдин Джейм...   \n",
              "4  Александр Абдулов, Александр Демьяненко, Алекс...   \n",
              "\n",
              "                                         description  \\\n",
              "0  Мелодрама легендарного Педро Альмодовара «Пого...   \n",
              "1  Уморительная современная комедия на популярную...   \n",
              "2  Профессиональный рестлер Стив Остин («Все или ...   \n",
              "3  Шарлотта Рэмплинг, Том Кортни, Джеральдин Джей...   \n",
              "4  Расчетливая чаровница из советского кинохита «...   \n",
              "\n",
              "                                            keywords  \n",
              "0  Поговори, ней, 2002, Испания, друзья, любовь, ...  \n",
              "1  Голые, перцы, 2014, США, друзья, свадьбы, прео...  \n",
              "2  Тактическая, сила, 2011, Канада, бандиты, ганг...  \n",
              "3  45, лет, 2015, Великобритания, брак, жизнь, лю...  \n",
              "4  Все, решает, мгновение, 1978, СССР, сильные, ж...  "
            ],
            "text/html": [
              "\n",
              "  <div id=\"df-323bb256-a458-4c22-a492-5a9625eec275\">\n",
              "    <div class=\"colab-df-container\">\n",
              "      <div>\n",
              "<style scoped>\n",
              "    .dataframe tbody tr th:only-of-type {\n",
              "        vertical-align: middle;\n",
              "    }\n",
              "\n",
              "    .dataframe tbody tr th {\n",
              "        vertical-align: top;\n",
              "    }\n",
              "\n",
              "    .dataframe thead th {\n",
              "        text-align: right;\n",
              "    }\n",
              "</style>\n",
              "<table border=\"1\" class=\"dataframe\">\n",
              "  <thead>\n",
              "    <tr style=\"text-align: right;\">\n",
              "      <th></th>\n",
              "      <th>item_id</th>\n",
              "      <th>content_type</th>\n",
              "      <th>title</th>\n",
              "      <th>title_orig</th>\n",
              "      <th>release_year</th>\n",
              "      <th>genres</th>\n",
              "      <th>countries</th>\n",
              "      <th>for_kids</th>\n",
              "      <th>age_rating</th>\n",
              "      <th>studios</th>\n",
              "      <th>directors</th>\n",
              "      <th>actors</th>\n",
              "      <th>description</th>\n",
              "      <th>keywords</th>\n",
              "    </tr>\n",
              "  </thead>\n",
              "  <tbody>\n",
              "    <tr>\n",
              "      <th>0</th>\n",
              "      <td>10711</td>\n",
              "      <td>film</td>\n",
              "      <td>Поговори с ней</td>\n",
              "      <td>Hable con ella</td>\n",
              "      <td>2002.0</td>\n",
              "      <td>драмы, зарубежные, детективы, мелодрамы</td>\n",
              "      <td>Испания</td>\n",
              "      <td>NaN</td>\n",
              "      <td>16.0</td>\n",
              "      <td>NaN</td>\n",
              "      <td>Педро Альмодовар</td>\n",
              "      <td>Адольфо Фернандес, Ана Фернандес, Дарио Гранди...</td>\n",
              "      <td>Мелодрама легендарного Педро Альмодовара «Пого...</td>\n",
              "      <td>Поговори, ней, 2002, Испания, друзья, любовь, ...</td>\n",
              "    </tr>\n",
              "    <tr>\n",
              "      <th>1</th>\n",
              "      <td>2508</td>\n",
              "      <td>film</td>\n",
              "      <td>Голые перцы</td>\n",
              "      <td>Search Party</td>\n",
              "      <td>2014.0</td>\n",
              "      <td>зарубежные, приключения, комедии</td>\n",
              "      <td>США</td>\n",
              "      <td>NaN</td>\n",
              "      <td>16.0</td>\n",
              "      <td>NaN</td>\n",
              "      <td>Скот Армстронг</td>\n",
              "      <td>Адам Палли, Брайан Хаски, Дж.Б. Смув, Джейсон ...</td>\n",
              "      <td>Уморительная современная комедия на популярную...</td>\n",
              "      <td>Голые, перцы, 2014, США, друзья, свадьбы, прео...</td>\n",
              "    </tr>\n",
              "    <tr>\n",
              "      <th>2</th>\n",
              "      <td>10716</td>\n",
              "      <td>film</td>\n",
              "      <td>Тактическая сила</td>\n",
              "      <td>Tactical Force</td>\n",
              "      <td>2011.0</td>\n",
              "      <td>криминал, зарубежные, триллеры, боевики, комедии</td>\n",
              "      <td>Канада</td>\n",
              "      <td>NaN</td>\n",
              "      <td>16.0</td>\n",
              "      <td>NaN</td>\n",
              "      <td>Адам П. Калтраро</td>\n",
              "      <td>Адриан Холмс, Даррен Шалави, Джерри Вассерман,...</td>\n",
              "      <td>Профессиональный рестлер Стив Остин («Все или ...</td>\n",
              "      <td>Тактическая, сила, 2011, Канада, бандиты, ганг...</td>\n",
              "    </tr>\n",
              "    <tr>\n",
              "      <th>3</th>\n",
              "      <td>7868</td>\n",
              "      <td>film</td>\n",
              "      <td>45 лет</td>\n",
              "      <td>45 Years</td>\n",
              "      <td>2015.0</td>\n",
              "      <td>драмы, зарубежные, мелодрамы</td>\n",
              "      <td>Великобритания</td>\n",
              "      <td>NaN</td>\n",
              "      <td>16.0</td>\n",
              "      <td>NaN</td>\n",
              "      <td>Эндрю Хэй</td>\n",
              "      <td>Александра Риддлстон-Барретт, Джеральдин Джейм...</td>\n",
              "      <td>Шарлотта Рэмплинг, Том Кортни, Джеральдин Джей...</td>\n",
              "      <td>45, лет, 2015, Великобритания, брак, жизнь, лю...</td>\n",
              "    </tr>\n",
              "    <tr>\n",
              "      <th>4</th>\n",
              "      <td>16268</td>\n",
              "      <td>film</td>\n",
              "      <td>Все решает мгновение</td>\n",
              "      <td>NaN</td>\n",
              "      <td>1978.0</td>\n",
              "      <td>драмы, спорт, советские, мелодрамы</td>\n",
              "      <td>СССР</td>\n",
              "      <td>NaN</td>\n",
              "      <td>12.0</td>\n",
              "      <td>Ленфильм</td>\n",
              "      <td>Виктор Садовский</td>\n",
              "      <td>Александр Абдулов, Александр Демьяненко, Алекс...</td>\n",
              "      <td>Расчетливая чаровница из советского кинохита «...</td>\n",
              "      <td>Все, решает, мгновение, 1978, СССР, сильные, ж...</td>\n",
              "    </tr>\n",
              "  </tbody>\n",
              "</table>\n",
              "</div>\n",
              "      <button class=\"colab-df-convert\" onclick=\"convertToInteractive('df-323bb256-a458-4c22-a492-5a9625eec275')\"\n",
              "              title=\"Convert this dataframe to an interactive table.\"\n",
              "              style=\"display:none;\">\n",
              "        \n",
              "  <svg xmlns=\"http://www.w3.org/2000/svg\" height=\"24px\"viewBox=\"0 0 24 24\"\n",
              "       width=\"24px\">\n",
              "    <path d=\"M0 0h24v24H0V0z\" fill=\"none\"/>\n",
              "    <path d=\"M18.56 5.44l.94 2.06.94-2.06 2.06-.94-2.06-.94-.94-2.06-.94 2.06-2.06.94zm-11 1L8.5 8.5l.94-2.06 2.06-.94-2.06-.94L8.5 2.5l-.94 2.06-2.06.94zm10 10l.94 2.06.94-2.06 2.06-.94-2.06-.94-.94-2.06-.94 2.06-2.06.94z\"/><path d=\"M17.41 7.96l-1.37-1.37c-.4-.4-.92-.59-1.43-.59-.52 0-1.04.2-1.43.59L10.3 9.45l-7.72 7.72c-.78.78-.78 2.05 0 2.83L4 21.41c.39.39.9.59 1.41.59.51 0 1.02-.2 1.41-.59l7.78-7.78 2.81-2.81c.8-.78.8-2.07 0-2.86zM5.41 20L4 18.59l7.72-7.72 1.47 1.35L5.41 20z\"/>\n",
              "  </svg>\n",
              "      </button>\n",
              "      \n",
              "  <style>\n",
              "    .colab-df-container {\n",
              "      display:flex;\n",
              "      flex-wrap:wrap;\n",
              "      gap: 12px;\n",
              "    }\n",
              "\n",
              "    .colab-df-convert {\n",
              "      background-color: #E8F0FE;\n",
              "      border: none;\n",
              "      border-radius: 50%;\n",
              "      cursor: pointer;\n",
              "      display: none;\n",
              "      fill: #1967D2;\n",
              "      height: 32px;\n",
              "      padding: 0 0 0 0;\n",
              "      width: 32px;\n",
              "    }\n",
              "\n",
              "    .colab-df-convert:hover {\n",
              "      background-color: #E2EBFA;\n",
              "      box-shadow: 0px 1px 2px rgba(60, 64, 67, 0.3), 0px 1px 3px 1px rgba(60, 64, 67, 0.15);\n",
              "      fill: #174EA6;\n",
              "    }\n",
              "\n",
              "    [theme=dark] .colab-df-convert {\n",
              "      background-color: #3B4455;\n",
              "      fill: #D2E3FC;\n",
              "    }\n",
              "\n",
              "    [theme=dark] .colab-df-convert:hover {\n",
              "      background-color: #434B5C;\n",
              "      box-shadow: 0px 1px 3px 1px rgba(0, 0, 0, 0.15);\n",
              "      filter: drop-shadow(0px 1px 2px rgba(0, 0, 0, 0.3));\n",
              "      fill: #FFFFFF;\n",
              "    }\n",
              "  </style>\n",
              "\n",
              "      <script>\n",
              "        const buttonEl =\n",
              "          document.querySelector('#df-323bb256-a458-4c22-a492-5a9625eec275 button.colab-df-convert');\n",
              "        buttonEl.style.display =\n",
              "          google.colab.kernel.accessAllowed ? 'block' : 'none';\n",
              "\n",
              "        async function convertToInteractive(key) {\n",
              "          const element = document.querySelector('#df-323bb256-a458-4c22-a492-5a9625eec275');\n",
              "          const dataTable =\n",
              "            await google.colab.kernel.invokeFunction('convertToInteractive',\n",
              "                                                     [key], {});\n",
              "          if (!dataTable) return;\n",
              "\n",
              "          const docLinkHtml = 'Like what you see? Visit the ' +\n",
              "            '<a target=\"_blank\" href=https://colab.research.google.com/notebooks/data_table.ipynb>data table notebook</a>'\n",
              "            + ' to learn more about interactive tables.';\n",
              "          element.innerHTML = '';\n",
              "          dataTable['output_type'] = 'display_data';\n",
              "          await google.colab.output.renderOutput(dataTable, element);\n",
              "          const docLink = document.createElement('div');\n",
              "          docLink.innerHTML = docLinkHtml;\n",
              "          element.appendChild(docLink);\n",
              "        }\n",
              "      </script>\n",
              "    </div>\n",
              "  </div>\n",
              "  "
            ]
          },
          "metadata": {},
          "execution_count": 67
        }
      ],
      "source": [
        "items.head()"
      ]
    },
    {
      "cell_type": "code",
      "execution_count": 68,
      "metadata": {
        "colab": {
          "base_uri": "https://localhost:8080/"
        },
        "id": "o5yRyWch0h-t",
        "outputId": "f97e19b3-e5e1-4301-d497-8fc59eae18eb"
      },
      "outputs": [
        {
          "output_type": "execute_result",
          "data": {
            "text/plain": [
              "item_id         14019\n",
              "content_type        2\n",
              "title           13454\n",
              "title_orig       9724\n",
              "release_year      104\n",
              "genres           2559\n",
              "countries         666\n",
              "for_kids            2\n",
              "age_rating          6\n",
              "studios            38\n",
              "directors        7414\n",
              "actors          11830\n",
              "description     13791\n",
              "keywords        13583\n",
              "dtype: int64"
            ]
          },
          "metadata": {},
          "execution_count": 68
        }
      ],
      "source": [
        "items.nunique()"
      ]
    },
    {
      "cell_type": "markdown",
      "metadata": {
        "id": "TL63dFyt0h-t"
      },
      "source": [
        "### Genre"
      ]
    },
    {
      "cell_type": "code",
      "execution_count": 69,
      "metadata": {
        "colab": {
          "base_uri": "https://localhost:8080/",
          "height": 0
        },
        "id": "FT49Yh0c0h-t",
        "outputId": "d5f101d4-2e3d-4541-c84c-c4e7e93b4952"
      },
      "outputs": [
        {
          "output_type": "execute_result",
          "data": {
            "text/plain": [
              "      id       value feature\n",
              "0  10711       драмы   genre\n",
              "0  10711  зарубежные   genre\n",
              "0  10711   детективы   genre\n",
              "0  10711   мелодрамы   genre\n",
              "1   2508  зарубежные   genre"
            ],
            "text/html": [
              "\n",
              "  <div id=\"df-5107dfe2-21ad-4f0b-9728-75ebbc7a87b7\">\n",
              "    <div class=\"colab-df-container\">\n",
              "      <div>\n",
              "<style scoped>\n",
              "    .dataframe tbody tr th:only-of-type {\n",
              "        vertical-align: middle;\n",
              "    }\n",
              "\n",
              "    .dataframe tbody tr th {\n",
              "        vertical-align: top;\n",
              "    }\n",
              "\n",
              "    .dataframe thead th {\n",
              "        text-align: right;\n",
              "    }\n",
              "</style>\n",
              "<table border=\"1\" class=\"dataframe\">\n",
              "  <thead>\n",
              "    <tr style=\"text-align: right;\">\n",
              "      <th></th>\n",
              "      <th>id</th>\n",
              "      <th>value</th>\n",
              "      <th>feature</th>\n",
              "    </tr>\n",
              "  </thead>\n",
              "  <tbody>\n",
              "    <tr>\n",
              "      <th>0</th>\n",
              "      <td>10711</td>\n",
              "      <td>драмы</td>\n",
              "      <td>genre</td>\n",
              "    </tr>\n",
              "    <tr>\n",
              "      <th>0</th>\n",
              "      <td>10711</td>\n",
              "      <td>зарубежные</td>\n",
              "      <td>genre</td>\n",
              "    </tr>\n",
              "    <tr>\n",
              "      <th>0</th>\n",
              "      <td>10711</td>\n",
              "      <td>детективы</td>\n",
              "      <td>genre</td>\n",
              "    </tr>\n",
              "    <tr>\n",
              "      <th>0</th>\n",
              "      <td>10711</td>\n",
              "      <td>мелодрамы</td>\n",
              "      <td>genre</td>\n",
              "    </tr>\n",
              "    <tr>\n",
              "      <th>1</th>\n",
              "      <td>2508</td>\n",
              "      <td>зарубежные</td>\n",
              "      <td>genre</td>\n",
              "    </tr>\n",
              "  </tbody>\n",
              "</table>\n",
              "</div>\n",
              "      <button class=\"colab-df-convert\" onclick=\"convertToInteractive('df-5107dfe2-21ad-4f0b-9728-75ebbc7a87b7')\"\n",
              "              title=\"Convert this dataframe to an interactive table.\"\n",
              "              style=\"display:none;\">\n",
              "        \n",
              "  <svg xmlns=\"http://www.w3.org/2000/svg\" height=\"24px\"viewBox=\"0 0 24 24\"\n",
              "       width=\"24px\">\n",
              "    <path d=\"M0 0h24v24H0V0z\" fill=\"none\"/>\n",
              "    <path d=\"M18.56 5.44l.94 2.06.94-2.06 2.06-.94-2.06-.94-.94-2.06-.94 2.06-2.06.94zm-11 1L8.5 8.5l.94-2.06 2.06-.94-2.06-.94L8.5 2.5l-.94 2.06-2.06.94zm10 10l.94 2.06.94-2.06 2.06-.94-2.06-.94-.94-2.06-.94 2.06-2.06.94z\"/><path d=\"M17.41 7.96l-1.37-1.37c-.4-.4-.92-.59-1.43-.59-.52 0-1.04.2-1.43.59L10.3 9.45l-7.72 7.72c-.78.78-.78 2.05 0 2.83L4 21.41c.39.39.9.59 1.41.59.51 0 1.02-.2 1.41-.59l7.78-7.78 2.81-2.81c.8-.78.8-2.07 0-2.86zM5.41 20L4 18.59l7.72-7.72 1.47 1.35L5.41 20z\"/>\n",
              "  </svg>\n",
              "      </button>\n",
              "      \n",
              "  <style>\n",
              "    .colab-df-container {\n",
              "      display:flex;\n",
              "      flex-wrap:wrap;\n",
              "      gap: 12px;\n",
              "    }\n",
              "\n",
              "    .colab-df-convert {\n",
              "      background-color: #E8F0FE;\n",
              "      border: none;\n",
              "      border-radius: 50%;\n",
              "      cursor: pointer;\n",
              "      display: none;\n",
              "      fill: #1967D2;\n",
              "      height: 32px;\n",
              "      padding: 0 0 0 0;\n",
              "      width: 32px;\n",
              "    }\n",
              "\n",
              "    .colab-df-convert:hover {\n",
              "      background-color: #E2EBFA;\n",
              "      box-shadow: 0px 1px 2px rgba(60, 64, 67, 0.3), 0px 1px 3px 1px rgba(60, 64, 67, 0.15);\n",
              "      fill: #174EA6;\n",
              "    }\n",
              "\n",
              "    [theme=dark] .colab-df-convert {\n",
              "      background-color: #3B4455;\n",
              "      fill: #D2E3FC;\n",
              "    }\n",
              "\n",
              "    [theme=dark] .colab-df-convert:hover {\n",
              "      background-color: #434B5C;\n",
              "      box-shadow: 0px 1px 3px 1px rgba(0, 0, 0, 0.15);\n",
              "      filter: drop-shadow(0px 1px 2px rgba(0, 0, 0, 0.3));\n",
              "      fill: #FFFFFF;\n",
              "    }\n",
              "  </style>\n",
              "\n",
              "      <script>\n",
              "        const buttonEl =\n",
              "          document.querySelector('#df-5107dfe2-21ad-4f0b-9728-75ebbc7a87b7 button.colab-df-convert');\n",
              "        buttonEl.style.display =\n",
              "          google.colab.kernel.accessAllowed ? 'block' : 'none';\n",
              "\n",
              "        async function convertToInteractive(key) {\n",
              "          const element = document.querySelector('#df-5107dfe2-21ad-4f0b-9728-75ebbc7a87b7');\n",
              "          const dataTable =\n",
              "            await google.colab.kernel.invokeFunction('convertToInteractive',\n",
              "                                                     [key], {});\n",
              "          if (!dataTable) return;\n",
              "\n",
              "          const docLinkHtml = 'Like what you see? Visit the ' +\n",
              "            '<a target=\"_blank\" href=https://colab.research.google.com/notebooks/data_table.ipynb>data table notebook</a>'\n",
              "            + ' to learn more about interactive tables.';\n",
              "          element.innerHTML = '';\n",
              "          dataTable['output_type'] = 'display_data';\n",
              "          await google.colab.output.renderOutput(dataTable, element);\n",
              "          const docLink = document.createElement('div');\n",
              "          docLink.innerHTML = docLinkHtml;\n",
              "          element.appendChild(docLink);\n",
              "        }\n",
              "      </script>\n",
              "    </div>\n",
              "  </div>\n",
              "  "
            ]
          },
          "metadata": {},
          "execution_count": 69
        }
      ],
      "source": [
        "# Explode genres to flatten table\n",
        "items[\"genre\"] = items[\"genres\"].str.lower().str.replace(\", \", \",\", regex=False).str.split(\",\")\n",
        "genre_feature = items[[\"item_id\", \"genre\"]].explode(\"genre\")\n",
        "genre_feature.columns = [\"id\", \"value\"]\n",
        "genre_feature[\"feature\"] = \"genre\"\n",
        "genre_feature.head()"
      ]
    },
    {
      "cell_type": "markdown",
      "metadata": {
        "id": "2BtUS2eH0h-t"
      },
      "source": [
        "### Content"
      ]
    },
    {
      "cell_type": "code",
      "execution_count": 70,
      "metadata": {
        "id": "kPrXmlI00h-u"
      },
      "outputs": [],
      "source": [
        "content_feature = items.reindex(columns=[Columns.Item, \"content_type\"])\n",
        "content_feature.columns = [\"id\", \"value\"]\n",
        "content_feature[\"feature\"] = \"content_type\""
      ]
    },
    {
      "cell_type": "code",
      "execution_count": 71,
      "metadata": {
        "colab": {
          "base_uri": "https://localhost:8080/",
          "height": 0
        },
        "id": "XEe38XYv0h-u",
        "outputId": "214b35e0-f94a-4e72-9dc1-a1b05fa09107"
      },
      "outputs": [
        {
          "output_type": "execute_result",
          "data": {
            "text/plain": [
              "          id   value       feature\n",
              "0      10711    film  content_type\n",
              "1       2508    film  content_type\n",
              "2      10716    film  content_type\n",
              "3       7868    film  content_type\n",
              "4      16268    film  content_type\n",
              "...      ...     ...           ...\n",
              "15958   6443  series  content_type\n",
              "15959   2367  series  content_type\n",
              "15960  10632  series  content_type\n",
              "15961   4538  series  content_type\n",
              "15962   3206  series  content_type\n",
              "\n",
              "[14019 rows x 3 columns]"
            ],
            "text/html": [
              "\n",
              "  <div id=\"df-db7731fd-1d29-4a2b-98ba-f38c747e9bd0\">\n",
              "    <div class=\"colab-df-container\">\n",
              "      <div>\n",
              "<style scoped>\n",
              "    .dataframe tbody tr th:only-of-type {\n",
              "        vertical-align: middle;\n",
              "    }\n",
              "\n",
              "    .dataframe tbody tr th {\n",
              "        vertical-align: top;\n",
              "    }\n",
              "\n",
              "    .dataframe thead th {\n",
              "        text-align: right;\n",
              "    }\n",
              "</style>\n",
              "<table border=\"1\" class=\"dataframe\">\n",
              "  <thead>\n",
              "    <tr style=\"text-align: right;\">\n",
              "      <th></th>\n",
              "      <th>id</th>\n",
              "      <th>value</th>\n",
              "      <th>feature</th>\n",
              "    </tr>\n",
              "  </thead>\n",
              "  <tbody>\n",
              "    <tr>\n",
              "      <th>0</th>\n",
              "      <td>10711</td>\n",
              "      <td>film</td>\n",
              "      <td>content_type</td>\n",
              "    </tr>\n",
              "    <tr>\n",
              "      <th>1</th>\n",
              "      <td>2508</td>\n",
              "      <td>film</td>\n",
              "      <td>content_type</td>\n",
              "    </tr>\n",
              "    <tr>\n",
              "      <th>2</th>\n",
              "      <td>10716</td>\n",
              "      <td>film</td>\n",
              "      <td>content_type</td>\n",
              "    </tr>\n",
              "    <tr>\n",
              "      <th>3</th>\n",
              "      <td>7868</td>\n",
              "      <td>film</td>\n",
              "      <td>content_type</td>\n",
              "    </tr>\n",
              "    <tr>\n",
              "      <th>4</th>\n",
              "      <td>16268</td>\n",
              "      <td>film</td>\n",
              "      <td>content_type</td>\n",
              "    </tr>\n",
              "    <tr>\n",
              "      <th>...</th>\n",
              "      <td>...</td>\n",
              "      <td>...</td>\n",
              "      <td>...</td>\n",
              "    </tr>\n",
              "    <tr>\n",
              "      <th>15958</th>\n",
              "      <td>6443</td>\n",
              "      <td>series</td>\n",
              "      <td>content_type</td>\n",
              "    </tr>\n",
              "    <tr>\n",
              "      <th>15959</th>\n",
              "      <td>2367</td>\n",
              "      <td>series</td>\n",
              "      <td>content_type</td>\n",
              "    </tr>\n",
              "    <tr>\n",
              "      <th>15960</th>\n",
              "      <td>10632</td>\n",
              "      <td>series</td>\n",
              "      <td>content_type</td>\n",
              "    </tr>\n",
              "    <tr>\n",
              "      <th>15961</th>\n",
              "      <td>4538</td>\n",
              "      <td>series</td>\n",
              "      <td>content_type</td>\n",
              "    </tr>\n",
              "    <tr>\n",
              "      <th>15962</th>\n",
              "      <td>3206</td>\n",
              "      <td>series</td>\n",
              "      <td>content_type</td>\n",
              "    </tr>\n",
              "  </tbody>\n",
              "</table>\n",
              "<p>14019 rows × 3 columns</p>\n",
              "</div>\n",
              "      <button class=\"colab-df-convert\" onclick=\"convertToInteractive('df-db7731fd-1d29-4a2b-98ba-f38c747e9bd0')\"\n",
              "              title=\"Convert this dataframe to an interactive table.\"\n",
              "              style=\"display:none;\">\n",
              "        \n",
              "  <svg xmlns=\"http://www.w3.org/2000/svg\" height=\"24px\"viewBox=\"0 0 24 24\"\n",
              "       width=\"24px\">\n",
              "    <path d=\"M0 0h24v24H0V0z\" fill=\"none\"/>\n",
              "    <path d=\"M18.56 5.44l.94 2.06.94-2.06 2.06-.94-2.06-.94-.94-2.06-.94 2.06-2.06.94zm-11 1L8.5 8.5l.94-2.06 2.06-.94-2.06-.94L8.5 2.5l-.94 2.06-2.06.94zm10 10l.94 2.06.94-2.06 2.06-.94-2.06-.94-.94-2.06-.94 2.06-2.06.94z\"/><path d=\"M17.41 7.96l-1.37-1.37c-.4-.4-.92-.59-1.43-.59-.52 0-1.04.2-1.43.59L10.3 9.45l-7.72 7.72c-.78.78-.78 2.05 0 2.83L4 21.41c.39.39.9.59 1.41.59.51 0 1.02-.2 1.41-.59l7.78-7.78 2.81-2.81c.8-.78.8-2.07 0-2.86zM5.41 20L4 18.59l7.72-7.72 1.47 1.35L5.41 20z\"/>\n",
              "  </svg>\n",
              "      </button>\n",
              "      \n",
              "  <style>\n",
              "    .colab-df-container {\n",
              "      display:flex;\n",
              "      flex-wrap:wrap;\n",
              "      gap: 12px;\n",
              "    }\n",
              "\n",
              "    .colab-df-convert {\n",
              "      background-color: #E8F0FE;\n",
              "      border: none;\n",
              "      border-radius: 50%;\n",
              "      cursor: pointer;\n",
              "      display: none;\n",
              "      fill: #1967D2;\n",
              "      height: 32px;\n",
              "      padding: 0 0 0 0;\n",
              "      width: 32px;\n",
              "    }\n",
              "\n",
              "    .colab-df-convert:hover {\n",
              "      background-color: #E2EBFA;\n",
              "      box-shadow: 0px 1px 2px rgba(60, 64, 67, 0.3), 0px 1px 3px 1px rgba(60, 64, 67, 0.15);\n",
              "      fill: #174EA6;\n",
              "    }\n",
              "\n",
              "    [theme=dark] .colab-df-convert {\n",
              "      background-color: #3B4455;\n",
              "      fill: #D2E3FC;\n",
              "    }\n",
              "\n",
              "    [theme=dark] .colab-df-convert:hover {\n",
              "      background-color: #434B5C;\n",
              "      box-shadow: 0px 1px 3px 1px rgba(0, 0, 0, 0.15);\n",
              "      filter: drop-shadow(0px 1px 2px rgba(0, 0, 0, 0.3));\n",
              "      fill: #FFFFFF;\n",
              "    }\n",
              "  </style>\n",
              "\n",
              "      <script>\n",
              "        const buttonEl =\n",
              "          document.querySelector('#df-db7731fd-1d29-4a2b-98ba-f38c747e9bd0 button.colab-df-convert');\n",
              "        buttonEl.style.display =\n",
              "          google.colab.kernel.accessAllowed ? 'block' : 'none';\n",
              "\n",
              "        async function convertToInteractive(key) {\n",
              "          const element = document.querySelector('#df-db7731fd-1d29-4a2b-98ba-f38c747e9bd0');\n",
              "          const dataTable =\n",
              "            await google.colab.kernel.invokeFunction('convertToInteractive',\n",
              "                                                     [key], {});\n",
              "          if (!dataTable) return;\n",
              "\n",
              "          const docLinkHtml = 'Like what you see? Visit the ' +\n",
              "            '<a target=\"_blank\" href=https://colab.research.google.com/notebooks/data_table.ipynb>data table notebook</a>'\n",
              "            + ' to learn more about interactive tables.';\n",
              "          element.innerHTML = '';\n",
              "          dataTable['output_type'] = 'display_data';\n",
              "          await google.colab.output.renderOutput(dataTable, element);\n",
              "          const docLink = document.createElement('div');\n",
              "          docLink.innerHTML = docLinkHtml;\n",
              "          element.appendChild(docLink);\n",
              "        }\n",
              "      </script>\n",
              "    </div>\n",
              "  </div>\n",
              "  "
            ]
          },
          "metadata": {},
          "execution_count": 71
        }
      ],
      "source": [
        "content_feature"
      ]
    },
    {
      "cell_type": "code",
      "execution_count": 72,
      "metadata": {
        "id": "ZM1jDU_f0h-u"
      },
      "outputs": [],
      "source": [
        "item_features = pd.concat((genre_feature, content_feature))"
      ]
    },
    {
      "cell_type": "code",
      "execution_count": 73,
      "metadata": {
        "colab": {
          "base_uri": "https://localhost:8080/",
          "height": 0
        },
        "id": "Ekl1JJ2i0h-u",
        "outputId": "59e1f65f-9b0f-4a60-e5bb-b40ccf886248"
      },
      "outputs": [
        {
          "output_type": "execute_result",
          "data": {
            "text/plain": [
              "          id       value       feature\n",
              "0      10711       драмы         genre\n",
              "0      10711  зарубежные         genre\n",
              "0      10711   детективы         genre\n",
              "0      10711   мелодрамы         genre\n",
              "1       2508  зарубежные         genre\n",
              "...      ...         ...           ...\n",
              "15958   6443      series  content_type\n",
              "15959   2367      series  content_type\n",
              "15960  10632      series  content_type\n",
              "15961   4538      series  content_type\n",
              "15962   3206      series  content_type\n",
              "\n",
              "[50224 rows x 3 columns]"
            ],
            "text/html": [
              "\n",
              "  <div id=\"df-14ac3738-bb5f-4276-b2fa-4fdc355e1a08\">\n",
              "    <div class=\"colab-df-container\">\n",
              "      <div>\n",
              "<style scoped>\n",
              "    .dataframe tbody tr th:only-of-type {\n",
              "        vertical-align: middle;\n",
              "    }\n",
              "\n",
              "    .dataframe tbody tr th {\n",
              "        vertical-align: top;\n",
              "    }\n",
              "\n",
              "    .dataframe thead th {\n",
              "        text-align: right;\n",
              "    }\n",
              "</style>\n",
              "<table border=\"1\" class=\"dataframe\">\n",
              "  <thead>\n",
              "    <tr style=\"text-align: right;\">\n",
              "      <th></th>\n",
              "      <th>id</th>\n",
              "      <th>value</th>\n",
              "      <th>feature</th>\n",
              "    </tr>\n",
              "  </thead>\n",
              "  <tbody>\n",
              "    <tr>\n",
              "      <th>0</th>\n",
              "      <td>10711</td>\n",
              "      <td>драмы</td>\n",
              "      <td>genre</td>\n",
              "    </tr>\n",
              "    <tr>\n",
              "      <th>0</th>\n",
              "      <td>10711</td>\n",
              "      <td>зарубежные</td>\n",
              "      <td>genre</td>\n",
              "    </tr>\n",
              "    <tr>\n",
              "      <th>0</th>\n",
              "      <td>10711</td>\n",
              "      <td>детективы</td>\n",
              "      <td>genre</td>\n",
              "    </tr>\n",
              "    <tr>\n",
              "      <th>0</th>\n",
              "      <td>10711</td>\n",
              "      <td>мелодрамы</td>\n",
              "      <td>genre</td>\n",
              "    </tr>\n",
              "    <tr>\n",
              "      <th>1</th>\n",
              "      <td>2508</td>\n",
              "      <td>зарубежные</td>\n",
              "      <td>genre</td>\n",
              "    </tr>\n",
              "    <tr>\n",
              "      <th>...</th>\n",
              "      <td>...</td>\n",
              "      <td>...</td>\n",
              "      <td>...</td>\n",
              "    </tr>\n",
              "    <tr>\n",
              "      <th>15958</th>\n",
              "      <td>6443</td>\n",
              "      <td>series</td>\n",
              "      <td>content_type</td>\n",
              "    </tr>\n",
              "    <tr>\n",
              "      <th>15959</th>\n",
              "      <td>2367</td>\n",
              "      <td>series</td>\n",
              "      <td>content_type</td>\n",
              "    </tr>\n",
              "    <tr>\n",
              "      <th>15960</th>\n",
              "      <td>10632</td>\n",
              "      <td>series</td>\n",
              "      <td>content_type</td>\n",
              "    </tr>\n",
              "    <tr>\n",
              "      <th>15961</th>\n",
              "      <td>4538</td>\n",
              "      <td>series</td>\n",
              "      <td>content_type</td>\n",
              "    </tr>\n",
              "    <tr>\n",
              "      <th>15962</th>\n",
              "      <td>3206</td>\n",
              "      <td>series</td>\n",
              "      <td>content_type</td>\n",
              "    </tr>\n",
              "  </tbody>\n",
              "</table>\n",
              "<p>50224 rows × 3 columns</p>\n",
              "</div>\n",
              "      <button class=\"colab-df-convert\" onclick=\"convertToInteractive('df-14ac3738-bb5f-4276-b2fa-4fdc355e1a08')\"\n",
              "              title=\"Convert this dataframe to an interactive table.\"\n",
              "              style=\"display:none;\">\n",
              "        \n",
              "  <svg xmlns=\"http://www.w3.org/2000/svg\" height=\"24px\"viewBox=\"0 0 24 24\"\n",
              "       width=\"24px\">\n",
              "    <path d=\"M0 0h24v24H0V0z\" fill=\"none\"/>\n",
              "    <path d=\"M18.56 5.44l.94 2.06.94-2.06 2.06-.94-2.06-.94-.94-2.06-.94 2.06-2.06.94zm-11 1L8.5 8.5l.94-2.06 2.06-.94-2.06-.94L8.5 2.5l-.94 2.06-2.06.94zm10 10l.94 2.06.94-2.06 2.06-.94-2.06-.94-.94-2.06-.94 2.06-2.06.94z\"/><path d=\"M17.41 7.96l-1.37-1.37c-.4-.4-.92-.59-1.43-.59-.52 0-1.04.2-1.43.59L10.3 9.45l-7.72 7.72c-.78.78-.78 2.05 0 2.83L4 21.41c.39.39.9.59 1.41.59.51 0 1.02-.2 1.41-.59l7.78-7.78 2.81-2.81c.8-.78.8-2.07 0-2.86zM5.41 20L4 18.59l7.72-7.72 1.47 1.35L5.41 20z\"/>\n",
              "  </svg>\n",
              "      </button>\n",
              "      \n",
              "  <style>\n",
              "    .colab-df-container {\n",
              "      display:flex;\n",
              "      flex-wrap:wrap;\n",
              "      gap: 12px;\n",
              "    }\n",
              "\n",
              "    .colab-df-convert {\n",
              "      background-color: #E8F0FE;\n",
              "      border: none;\n",
              "      border-radius: 50%;\n",
              "      cursor: pointer;\n",
              "      display: none;\n",
              "      fill: #1967D2;\n",
              "      height: 32px;\n",
              "      padding: 0 0 0 0;\n",
              "      width: 32px;\n",
              "    }\n",
              "\n",
              "    .colab-df-convert:hover {\n",
              "      background-color: #E2EBFA;\n",
              "      box-shadow: 0px 1px 2px rgba(60, 64, 67, 0.3), 0px 1px 3px 1px rgba(60, 64, 67, 0.15);\n",
              "      fill: #174EA6;\n",
              "    }\n",
              "\n",
              "    [theme=dark] .colab-df-convert {\n",
              "      background-color: #3B4455;\n",
              "      fill: #D2E3FC;\n",
              "    }\n",
              "\n",
              "    [theme=dark] .colab-df-convert:hover {\n",
              "      background-color: #434B5C;\n",
              "      box-shadow: 0px 1px 3px 1px rgba(0, 0, 0, 0.15);\n",
              "      filter: drop-shadow(0px 1px 2px rgba(0, 0, 0, 0.3));\n",
              "      fill: #FFFFFF;\n",
              "    }\n",
              "  </style>\n",
              "\n",
              "      <script>\n",
              "        const buttonEl =\n",
              "          document.querySelector('#df-14ac3738-bb5f-4276-b2fa-4fdc355e1a08 button.colab-df-convert');\n",
              "        buttonEl.style.display =\n",
              "          google.colab.kernel.accessAllowed ? 'block' : 'none';\n",
              "\n",
              "        async function convertToInteractive(key) {\n",
              "          const element = document.querySelector('#df-14ac3738-bb5f-4276-b2fa-4fdc355e1a08');\n",
              "          const dataTable =\n",
              "            await google.colab.kernel.invokeFunction('convertToInteractive',\n",
              "                                                     [key], {});\n",
              "          if (!dataTable) return;\n",
              "\n",
              "          const docLinkHtml = 'Like what you see? Visit the ' +\n",
              "            '<a target=\"_blank\" href=https://colab.research.google.com/notebooks/data_table.ipynb>data table notebook</a>'\n",
              "            + ' to learn more about interactive tables.';\n",
              "          element.innerHTML = '';\n",
              "          dataTable['output_type'] = 'display_data';\n",
              "          await google.colab.output.renderOutput(dataTable, element);\n",
              "          const docLink = document.createElement('div');\n",
              "          docLink.innerHTML = docLinkHtml;\n",
              "          element.appendChild(docLink);\n",
              "        }\n",
              "      </script>\n",
              "    </div>\n",
              "  </div>\n",
              "  "
            ]
          },
          "metadata": {},
          "execution_count": 73
        }
      ],
      "source": [
        "item_features"
      ]
    },
    {
      "cell_type": "markdown",
      "metadata": {
        "id": "3VJjE_Zf0h-u"
      },
      "source": [
        "# Metrics"
      ]
    },
    {
      "cell_type": "code",
      "execution_count": 74,
      "metadata": {
        "id": "FzIsX94-0h-u"
      },
      "outputs": [],
      "source": [
        "metrics_name = {\n",
        "    'Precision': Precision,\n",
        "    'Recall': Recall,\n",
        "    'MAP': MAP,\n",
        "}\n",
        "\n",
        "metrics = {}\n",
        "for metric_name, metric in metrics_name.items():\n",
        "    for k in range(1, 11):\n",
        "        metrics[f'{metric_name}@{k}'] = metric(k=k)"
      ]
    },
    {
      "cell_type": "code",
      "execution_count": 75,
      "metadata": {
        "colab": {
          "base_uri": "https://localhost:8080/"
        },
        "id": "CcLEgbNa0h-v",
        "outputId": "9cc8edf9-74f4-4013-c653-169d107ab439"
      },
      "outputs": [
        {
          "output_type": "execute_result",
          "data": {
            "text/plain": [
              "{'Precision@1': Precision(k=1),\n",
              " 'Precision@2': Precision(k=2),\n",
              " 'Precision@3': Precision(k=3),\n",
              " 'Precision@4': Precision(k=4),\n",
              " 'Precision@5': Precision(k=5),\n",
              " 'Precision@6': Precision(k=6),\n",
              " 'Precision@7': Precision(k=7),\n",
              " 'Precision@8': Precision(k=8),\n",
              " 'Precision@9': Precision(k=9),\n",
              " 'Precision@10': Precision(k=10),\n",
              " 'Recall@1': Recall(k=1),\n",
              " 'Recall@2': Recall(k=2),\n",
              " 'Recall@3': Recall(k=3),\n",
              " 'Recall@4': Recall(k=4),\n",
              " 'Recall@5': Recall(k=5),\n",
              " 'Recall@6': Recall(k=6),\n",
              " 'Recall@7': Recall(k=7),\n",
              " 'Recall@8': Recall(k=8),\n",
              " 'Recall@9': Recall(k=9),\n",
              " 'Recall@10': Recall(k=10),\n",
              " 'MAP@1': MAP(k=1, divide_by_k=False),\n",
              " 'MAP@2': MAP(k=2, divide_by_k=False),\n",
              " 'MAP@3': MAP(k=3, divide_by_k=False),\n",
              " 'MAP@4': MAP(k=4, divide_by_k=False),\n",
              " 'MAP@5': MAP(k=5, divide_by_k=False),\n",
              " 'MAP@6': MAP(k=6, divide_by_k=False),\n",
              " 'MAP@7': MAP(k=7, divide_by_k=False),\n",
              " 'MAP@8': MAP(k=8, divide_by_k=False),\n",
              " 'MAP@9': MAP(k=9, divide_by_k=False),\n",
              " 'MAP@10': MAP(k=10, divide_by_k=False)}"
            ]
          },
          "metadata": {},
          "execution_count": 75
        }
      ],
      "source": [
        "metrics"
      ]
    },
    {
      "cell_type": "markdown",
      "metadata": {
        "id": "XAw56J_Y0h-v"
      },
      "source": [
        "# Models"
      ]
    },
    {
      "cell_type": "code",
      "source": [
        "!mkdir models\n",
        "!pip install dill\n",
        "import dill as pickle "
      ],
      "metadata": {
        "colab": {
          "base_uri": "https://localhost:8080/"
        },
        "id": "Xo-Ne7N5_TWc",
        "outputId": "27c77b89-8819-4354-a789-24af44a18e1e"
      },
      "execution_count": 76,
      "outputs": [
        {
          "output_type": "stream",
          "name": "stdout",
          "text": [
            "mkdir: cannot create directory ‘models’: File exists\n",
            "Looking in indexes: https://pypi.org/simple, https://us-python.pkg.dev/colab-wheels/public/simple/\n",
            "Requirement already satisfied: dill in /usr/local/lib/python3.8/dist-packages (0.3.6)\n"
          ]
        }
      ]
    },
    {
      "cell_type": "code",
      "execution_count": 77,
      "metadata": {
        "id": "Wm_4uYwN0h-v"
      },
      "outputs": [],
      "source": [
        "K_RECOS = 10\n",
        "RANDOM_STATE = 42\n",
        "NUM_THREADS = 1\n",
        "N_FACTORS = ( 32, 64, 128, 256)\n",
        "N_EPOCHS = 1 # Lightfm\n",
        "USER_ALPHA = 0 # Lightfm\n",
        "ITEM_ALPHA = 0 # Lightfm\n",
        "LEARNING_RATE = 0.05 # Lightfm"
      ]
    },
    {
      "cell_type": "code",
      "execution_count": 78,
      "metadata": {
        "colab": {
          "base_uri": "https://localhost:8080/"
        },
        "id": "ct6nCuI60h-w",
        "outputId": "ef285e96-47e0-4e00-a35a-6cf901abe8ef"
      },
      "outputs": [
        {
          "output_type": "stream",
          "name": "stdout",
          "text": [
            "CPU times: user 1.24 s, sys: 50.7 ms, total: 1.29 s\n",
            "Wall time: 1.45 s\n"
          ]
        }
      ],
      "source": [
        "%%time\n",
        "dataset = Dataset.construct(\n",
        "    interactions_df=train,\n",
        "    user_features_df=user_features,\n",
        "    cat_user_features=[\"sex\", \"age\", \"income\"],\n",
        "    item_features_df=item_features,\n",
        "    cat_item_features=[\"genre\", \"content_type\"],\n",
        ")"
      ]
    },
    {
      "cell_type": "code",
      "execution_count": 79,
      "metadata": {
        "id": "ONlmpz6U0h-w"
      },
      "outputs": [],
      "source": [
        "TEST_USERS = test[Columns.User].unique()"
      ]
    },
    {
      "cell_type": "code",
      "execution_count": 80,
      "metadata": {
        "id": "lIZ_B-Wn0h-v"
      },
      "outputs": [],
      "source": [
        "models = {\n",
        "    'popular': PopularModel(),\n",
        "}"
      ]
    },
    {
      "cell_type": "code",
      "source": [
        "metrics"
      ],
      "metadata": {
        "colab": {
          "base_uri": "https://localhost:8080/"
        },
        "id": "4sH97bH774vj",
        "outputId": "3c350d01-0e7e-42a3-da2e-afd47b4e00e2"
      },
      "execution_count": 83,
      "outputs": [
        {
          "output_type": "execute_result",
          "data": {
            "text/plain": [
              "{'Precision@1': Precision(k=1),\n",
              " 'Precision@2': Precision(k=2),\n",
              " 'Precision@3': Precision(k=3),\n",
              " 'Precision@4': Precision(k=4),\n",
              " 'Precision@5': Precision(k=5),\n",
              " 'Precision@6': Precision(k=6),\n",
              " 'Precision@7': Precision(k=7),\n",
              " 'Precision@8': Precision(k=8),\n",
              " 'Precision@9': Precision(k=9),\n",
              " 'Precision@10': Precision(k=10),\n",
              " 'Recall@1': Recall(k=1),\n",
              " 'Recall@2': Recall(k=2),\n",
              " 'Recall@3': Recall(k=3),\n",
              " 'Recall@4': Recall(k=4),\n",
              " 'Recall@5': Recall(k=5),\n",
              " 'Recall@6': Recall(k=6),\n",
              " 'Recall@7': Recall(k=7),\n",
              " 'Recall@8': Recall(k=8),\n",
              " 'Recall@9': Recall(k=9),\n",
              " 'Recall@10': Recall(k=10),\n",
              " 'MAP@1': MAP(k=1, divide_by_k=False),\n",
              " 'MAP@2': MAP(k=2, divide_by_k=False),\n",
              " 'MAP@3': MAP(k=3, divide_by_k=False),\n",
              " 'MAP@4': MAP(k=4, divide_by_k=False),\n",
              " 'MAP@5': MAP(k=5, divide_by_k=False),\n",
              " 'MAP@6': MAP(k=6, divide_by_k=False),\n",
              " 'MAP@7': MAP(k=7, divide_by_k=False),\n",
              " 'MAP@8': MAP(k=8, divide_by_k=False),\n",
              " 'MAP@9': MAP(k=9, divide_by_k=False),\n",
              " 'MAP@10': MAP(k=10, divide_by_k=False)}"
            ]
          },
          "metadata": {},
          "execution_count": 83
        }
      ]
    },
    {
      "cell_type": "code",
      "execution_count": 84,
      "metadata": {
        "colab": {
          "base_uri": "https://localhost:8080/"
        },
        "id": "Baqc48dd0h-w",
        "outputId": "8becda41-6a45-4a4e-c93f-a66d8040811b"
      },
      "outputs": [
        {
          "output_type": "stream",
          "name": "stderr",
          "text": [
            "\u001b[32m[I 2022-12-13 16:31:10,745]\u001b[0m A new study created in memory with name: no-name-c812a614-4a87-44d8-b56a-be614a88687a\u001b[0m\n",
            "\u001b[32m[I 2022-12-13 16:41:07,459]\u001b[0m Trial 0 finished with value: 0.0005651075918644076 and parameters: {'n_factors': 256, 'LEARNING_RATE': 0.05, 'USER_ALPHA': 0.6000000000000001, 'ITEM_ALPHA': 0.2, 'Epochs': 1}. Best is trial 0 with value: 0.0005651075918644076.\u001b[0m\n",
            "\u001b[32m[I 2022-12-13 16:51:07,950]\u001b[0m Trial 1 finished with value: 0.0035573916053586556 and parameters: {'n_factors': 256, 'LEARNING_RATE': 0.04, 'USER_ALPHA': 0.6000000000000001, 'ITEM_ALPHA': 1.0, 'Epochs': 1}. Best is trial 1 with value: 0.0035573916053586556.\u001b[0m\n",
            "\u001b[32m[I 2022-12-13 16:57:51,881]\u001b[0m Trial 2 finished with value: 0.0006509227982602694 and parameters: {'n_factors': 128, 'LEARNING_RATE': 0.02, 'USER_ALPHA': 1.0, 'ITEM_ALPHA': 0.2, 'Epochs': 2}. Best is trial 1 with value: 0.0035573916053586556.\u001b[0m\n",
            "\u001b[32m[I 2022-12-13 17:02:48,933]\u001b[0m Trial 3 finished with value: 0.0741876054283642 and parameters: {'n_factors': 128, 'LEARNING_RATE': 0.05, 'USER_ALPHA': 0.2, 'ITEM_ALPHA': 0.2, 'Epochs': 2}. Best is trial 3 with value: 0.0741876054283642.\u001b[0m\n",
            "\u001b[32m[I 2022-12-13 17:04:38,424]\u001b[0m Trial 4 finished with value: 0.07434551977966107 and parameters: {'n_factors': 32, 'LEARNING_RATE': 0.05, 'USER_ALPHA': 0.2, 'ITEM_ALPHA': 0.6000000000000001, 'Epochs': 1}. Best is trial 4 with value: 0.07434551977966107.\u001b[0m\n",
            "\u001b[32m[I 2022-12-13 17:12:55,872]\u001b[0m Trial 5 finished with value: 0.04421545595343094 and parameters: {'n_factors': 256, 'LEARNING_RATE': 0.03, 'USER_ALPHA': 0.2, 'ITEM_ALPHA': 0.6000000000000001, 'Epochs': 1}. Best is trial 4 with value: 0.07434551977966107.\u001b[0m\n",
            "\u001b[32m[I 2022-12-13 17:17:47,714]\u001b[0m Trial 6 finished with value: 0.05886217075494437 and parameters: {'n_factors': 64, 'LEARNING_RATE': 0.04, 'USER_ALPHA': 0.6000000000000001, 'ITEM_ALPHA': 1.0, 'Epochs': 2}. Best is trial 4 with value: 0.07434551977966107.\u001b[0m\n",
            "\u001b[32m[I 2022-12-13 17:22:03,019]\u001b[0m Trial 7 finished with value: 0.07302259590561805 and parameters: {'n_factors': 128, 'LEARNING_RATE': 0.05, 'USER_ALPHA': 0.2, 'ITEM_ALPHA': 0.6000000000000001, 'Epochs': 1}. Best is trial 4 with value: 0.07434551977966107.\u001b[0m\n",
            "\u001b[32m[I 2022-12-13 17:28:22,194]\u001b[0m Trial 8 finished with value: 0.0007321664521922951 and parameters: {'n_factors': 128, 'LEARNING_RATE': 0.04, 'USER_ALPHA': 1.0, 'ITEM_ALPHA': 0.2, 'Epochs': 1}. Best is trial 4 with value: 0.07434551977966107.\u001b[0m\n",
            "\u001b[32m[I 2022-12-13 17:30:13,711]\u001b[0m Trial 9 finished with value: 0.000781412273179621 and parameters: {'n_factors': 32, 'LEARNING_RATE': 0.02, 'USER_ALPHA': 1.0, 'ITEM_ALPHA': 0.2, 'Epochs': 1}. Best is trial 4 with value: 0.07434551977966107.\u001b[0m\n",
            "\u001b[32m[I 2022-12-13 17:32:32,206]\u001b[0m Trial 10 finished with value: 0.05928619985351492 and parameters: {'n_factors': 32, 'LEARNING_RATE': 0.03, 'USER_ALPHA': 0.2, 'ITEM_ALPHA': 0.6000000000000001, 'Epochs': 2}. Best is trial 4 with value: 0.07434551977966107.\u001b[0m\n",
            "\u001b[32m[I 2022-12-13 17:34:51,807]\u001b[0m Trial 11 finished with value: 0.07220899228317337 and parameters: {'n_factors': 32, 'LEARNING_RATE': 0.05, 'USER_ALPHA': 0.2, 'ITEM_ALPHA': 0.6000000000000001, 'Epochs': 2}. Best is trial 4 with value: 0.07434551977966107.\u001b[0m\n",
            "\u001b[32m[I 2022-12-13 17:40:08,653]\u001b[0m Trial 12 finished with value: 0.00035078897865793246 and parameters: {'n_factors': 64, 'LEARNING_RATE': 0.05, 'USER_ALPHA': 0.2, 'ITEM_ALPHA': 1.0, 'Epochs': 2}. Best is trial 4 with value: 0.07434551977966107.\u001b[0m\n",
            "\u001b[32m[I 2022-12-13 17:42:25,717]\u001b[0m Trial 13 finished with value: 0.07220899228317337 and parameters: {'n_factors': 32, 'LEARNING_RATE': 0.05, 'USER_ALPHA': 0.2, 'ITEM_ALPHA': 0.6000000000000001, 'Epochs': 2}. Best is trial 4 with value: 0.07434551977966107.\u001b[0m\n",
            "\u001b[32m[I 2022-12-13 17:49:32,547]\u001b[0m Trial 14 finished with value: 0.00030873753091576606 and parameters: {'n_factors': 128, 'LEARNING_RATE': 0.04, 'USER_ALPHA': 0.6000000000000001, 'ITEM_ALPHA': 0.2, 'Epochs': 2}. Best is trial 4 with value: 0.07434551977966107.\u001b[0m\n",
            "\u001b[32m[I 2022-12-13 17:51:19,611]\u001b[0m Trial 15 finished with value: 0.07434551977966107 and parameters: {'n_factors': 32, 'LEARNING_RATE': 0.05, 'USER_ALPHA': 0.2, 'ITEM_ALPHA': 0.6000000000000001, 'Epochs': 1}. Best is trial 4 with value: 0.07434551977966107.\u001b[0m\n",
            "\u001b[32m[I 2022-12-13 17:52:55,899]\u001b[0m Trial 16 finished with value: 0.07499110706244784 and parameters: {'n_factors': 32, 'LEARNING_RATE': 0.03, 'USER_ALPHA': 0.6000000000000001, 'ITEM_ALPHA': 0.6000000000000001, 'Epochs': 1}. Best is trial 16 with value: 0.07499110706244784.\u001b[0m\n",
            "\u001b[32m[I 2022-12-13 17:54:50,046]\u001b[0m Trial 17 finished with value: 0.0028190499372491304 and parameters: {'n_factors': 32, 'LEARNING_RATE': 0.03, 'USER_ALPHA': 0.6000000000000001, 'ITEM_ALPHA': 1.0, 'Epochs': 1}. Best is trial 16 with value: 0.07499110706244784.\u001b[0m\n",
            "\u001b[32m[I 2022-12-13 17:56:27,656]\u001b[0m Trial 18 finished with value: 0.07499110706244784 and parameters: {'n_factors': 32, 'LEARNING_RATE': 0.03, 'USER_ALPHA': 0.6000000000000001, 'ITEM_ALPHA': 0.6000000000000001, 'Epochs': 1}. Best is trial 16 with value: 0.07499110706244784.\u001b[0m\n",
            "\u001b[32m[I 2022-12-13 17:58:23,059]\u001b[0m Trial 19 finished with value: 0.0028190499372491304 and parameters: {'n_factors': 32, 'LEARNING_RATE': 0.03, 'USER_ALPHA': 0.6000000000000001, 'ITEM_ALPHA': 1.0, 'Epochs': 1}. Best is trial 16 with value: 0.07499110706244784.\u001b[0m\n",
            "\u001b[32m[I 2022-12-13 18:00:48,487]\u001b[0m Trial 20 finished with value: 0.0005880894529820614 and parameters: {'n_factors': 64, 'LEARNING_RATE': 0.02, 'USER_ALPHA': 1.0, 'ITEM_ALPHA': 0.6000000000000001, 'Epochs': 1}. Best is trial 16 with value: 0.07499110706244784.\u001b[0m\n",
            "\u001b[32m[I 2022-12-13 18:02:27,101]\u001b[0m Trial 21 finished with value: 0.07499110706244784 and parameters: {'n_factors': 32, 'LEARNING_RATE': 0.03, 'USER_ALPHA': 0.6000000000000001, 'ITEM_ALPHA': 0.6000000000000001, 'Epochs': 1}. Best is trial 16 with value: 0.07499110706244784.\u001b[0m\n",
            "\u001b[32m[I 2022-12-13 18:04:04,813]\u001b[0m Trial 22 finished with value: 0.07499110706244784 and parameters: {'n_factors': 32, 'LEARNING_RATE': 0.03, 'USER_ALPHA': 0.6000000000000001, 'ITEM_ALPHA': 0.6000000000000001, 'Epochs': 1}. Best is trial 16 with value: 0.07499110706244784.\u001b[0m\n",
            "\u001b[32m[I 2022-12-13 18:05:42,431]\u001b[0m Trial 23 finished with value: 0.07499110706244784 and parameters: {'n_factors': 32, 'LEARNING_RATE': 0.03, 'USER_ALPHA': 0.6000000000000001, 'ITEM_ALPHA': 0.6000000000000001, 'Epochs': 1}. Best is trial 16 with value: 0.07499110706244784.\u001b[0m\n",
            "\u001b[32m[I 2022-12-13 18:07:21,099]\u001b[0m Trial 24 finished with value: 0.07545661765717591 and parameters: {'n_factors': 32, 'LEARNING_RATE': 0.02, 'USER_ALPHA': 0.6000000000000001, 'ITEM_ALPHA': 0.6000000000000001, 'Epochs': 1}. Best is trial 24 with value: 0.07545661765717591.\u001b[0m\n",
            "\u001b[32m[I 2022-12-13 18:08:58,813]\u001b[0m Trial 25 finished with value: 0.07545661765717591 and parameters: {'n_factors': 32, 'LEARNING_RATE': 0.02, 'USER_ALPHA': 0.6000000000000001, 'ITEM_ALPHA': 0.6000000000000001, 'Epochs': 1}. Best is trial 24 with value: 0.07545661765717591.\u001b[0m\n",
            "\u001b[32m[I 2022-12-13 18:10:41,688]\u001b[0m Trial 26 finished with value: 0.07205267451683006 and parameters: {'n_factors': 32, 'LEARNING_RATE': 0.02, 'USER_ALPHA': 1.0, 'ITEM_ALPHA': 1.0, 'Epochs': 1}. Best is trial 24 with value: 0.07545661765717591.\u001b[0m\n",
            "\u001b[32m[I 2022-12-13 18:12:18,869]\u001b[0m Trial 27 finished with value: 0.07545661765717591 and parameters: {'n_factors': 32, 'LEARNING_RATE': 0.02, 'USER_ALPHA': 0.6000000000000001, 'ITEM_ALPHA': 0.6000000000000001, 'Epochs': 1}. Best is trial 24 with value: 0.07545661765717591.\u001b[0m\n",
            "\u001b[32m[I 2022-12-13 18:14:36,125]\u001b[0m Trial 28 finished with value: 0.0758386128238359 and parameters: {'n_factors': 64, 'LEARNING_RATE': 0.02, 'USER_ALPHA': 0.6000000000000001, 'ITEM_ALPHA': 0.6000000000000001, 'Epochs': 1}. Best is trial 28 with value: 0.0758386128238359.\u001b[0m\n",
            "\u001b[32m[I 2022-12-13 18:16:58,435]\u001b[0m Trial 29 finished with value: 0.006678691848934656 and parameters: {'n_factors': 64, 'LEARNING_RATE': 0.02, 'USER_ALPHA': 0.6000000000000001, 'ITEM_ALPHA': 0.2, 'Epochs': 1}. Best is trial 28 with value: 0.0758386128238359.\u001b[0m\n",
            "\u001b[32m[I 2022-12-13 18:19:26,861]\u001b[0m Trial 30 finished with value: 0.0005880894529820614 and parameters: {'n_factors': 64, 'LEARNING_RATE': 0.02, 'USER_ALPHA': 1.0, 'ITEM_ALPHA': 0.6000000000000001, 'Epochs': 1}. Best is trial 28 with value: 0.0758386128238359.\u001b[0m\n",
            "\u001b[32m[I 2022-12-13 18:25:50,807]\u001b[0m Trial 31 finished with value: 0.0033220462729528118 and parameters: {'n_factors': 256, 'LEARNING_RATE': 0.02, 'USER_ALPHA': 0.6000000000000001, 'ITEM_ALPHA': 0.6000000000000001, 'Epochs': 1}. Best is trial 28 with value: 0.0758386128238359.\u001b[0m\n",
            "\u001b[32m[I 2022-12-13 18:28:10,527]\u001b[0m Trial 32 finished with value: 0.0758386128238359 and parameters: {'n_factors': 64, 'LEARNING_RATE': 0.02, 'USER_ALPHA': 0.6000000000000001, 'ITEM_ALPHA': 0.6000000000000001, 'Epochs': 1}. Best is trial 28 with value: 0.0758386128238359.\u001b[0m\n",
            "\u001b[32m[I 2022-12-13 18:30:28,235]\u001b[0m Trial 33 finished with value: 0.0758386128238359 and parameters: {'n_factors': 64, 'LEARNING_RATE': 0.02, 'USER_ALPHA': 0.6000000000000001, 'ITEM_ALPHA': 0.6000000000000001, 'Epochs': 1}. Best is trial 28 with value: 0.0758386128238359.\u001b[0m\n",
            "\u001b[32m[I 2022-12-13 18:32:47,175]\u001b[0m Trial 34 finished with value: 0.0758386128238359 and parameters: {'n_factors': 64, 'LEARNING_RATE': 0.02, 'USER_ALPHA': 0.6000000000000001, 'ITEM_ALPHA': 0.6000000000000001, 'Epochs': 1}. Best is trial 28 with value: 0.0758386128238359.\u001b[0m\n",
            "\u001b[32m[I 2022-12-13 18:35:06,061]\u001b[0m Trial 35 finished with value: 0.006678691848934656 and parameters: {'n_factors': 64, 'LEARNING_RATE': 0.02, 'USER_ALPHA': 0.6000000000000001, 'ITEM_ALPHA': 0.2, 'Epochs': 1}. Best is trial 28 with value: 0.0758386128238359.\u001b[0m\n",
            "\u001b[32m[I 2022-12-13 18:37:31,898]\u001b[0m Trial 36 finished with value: 0.0728720029070893 and parameters: {'n_factors': 64, 'LEARNING_RATE': 0.02, 'USER_ALPHA': 0.6000000000000001, 'ITEM_ALPHA': 1.0, 'Epochs': 1}. Best is trial 28 with value: 0.0758386128238359.\u001b[0m\n",
            "\u001b[32m[I 2022-12-13 18:39:48,363]\u001b[0m Trial 37 finished with value: 0.0758386128238359 and parameters: {'n_factors': 64, 'LEARNING_RATE': 0.02, 'USER_ALPHA': 0.6000000000000001, 'ITEM_ALPHA': 0.6000000000000001, 'Epochs': 1}. Best is trial 28 with value: 0.0758386128238359.\u001b[0m\n",
            "\u001b[32m[I 2022-12-13 18:42:07,667]\u001b[0m Trial 38 finished with value: 0.0758386128238359 and parameters: {'n_factors': 64, 'LEARNING_RATE': 0.02, 'USER_ALPHA': 0.6000000000000001, 'ITEM_ALPHA': 0.6000000000000001, 'Epochs': 1}. Best is trial 28 with value: 0.0758386128238359.\u001b[0m\n",
            "\u001b[32m[I 2022-12-13 18:44:43,682]\u001b[0m Trial 39 finished with value: 0.0006290498188106522 and parameters: {'n_factors': 64, 'LEARNING_RATE': 0.02, 'USER_ALPHA': 1.0, 'ITEM_ALPHA': 0.2, 'Epochs': 1}. Best is trial 28 with value: 0.0758386128238359.\u001b[0m\n",
            "\u001b[32m[I 2022-12-13 18:47:00,931]\u001b[0m Trial 40 finished with value: 0.0758386128238359 and parameters: {'n_factors': 64, 'LEARNING_RATE': 0.02, 'USER_ALPHA': 0.6000000000000001, 'ITEM_ALPHA': 0.6000000000000001, 'Epochs': 1}. Best is trial 28 with value: 0.0758386128238359.\u001b[0m\n",
            "\u001b[32m[I 2022-12-13 18:49:19,503]\u001b[0m Trial 41 finished with value: 0.0758386128238359 and parameters: {'n_factors': 64, 'LEARNING_RATE': 0.02, 'USER_ALPHA': 0.6000000000000001, 'ITEM_ALPHA': 0.6000000000000001, 'Epochs': 1}. Best is trial 28 with value: 0.0758386128238359.\u001b[0m\n",
            "\u001b[32m[I 2022-12-13 18:51:37,227]\u001b[0m Trial 42 finished with value: 0.0758386128238359 and parameters: {'n_factors': 64, 'LEARNING_RATE': 0.02, 'USER_ALPHA': 0.6000000000000001, 'ITEM_ALPHA': 0.6000000000000001, 'Epochs': 1}. Best is trial 28 with value: 0.0758386128238359.\u001b[0m\n",
            "\u001b[32m[I 2022-12-13 18:53:53,806]\u001b[0m Trial 43 finished with value: 0.0758386128238359 and parameters: {'n_factors': 64, 'LEARNING_RATE': 0.02, 'USER_ALPHA': 0.6000000000000001, 'ITEM_ALPHA': 0.6000000000000001, 'Epochs': 1}. Best is trial 28 with value: 0.0758386128238359.\u001b[0m\n",
            "\u001b[32m[I 2022-12-13 19:00:21,746]\u001b[0m Trial 44 finished with value: 0.0033220462729528118 and parameters: {'n_factors': 256, 'LEARNING_RATE': 0.02, 'USER_ALPHA': 0.6000000000000001, 'ITEM_ALPHA': 0.6000000000000001, 'Epochs': 1}. Best is trial 28 with value: 0.0758386128238359.\u001b[0m\n",
            "\u001b[32m[I 2022-12-13 19:02:38,974]\u001b[0m Trial 45 finished with value: 0.0758386128238359 and parameters: {'n_factors': 64, 'LEARNING_RATE': 0.02, 'USER_ALPHA': 0.6000000000000001, 'ITEM_ALPHA': 0.6000000000000001, 'Epochs': 1}. Best is trial 28 with value: 0.0758386128238359.\u001b[0m\n",
            "\u001b[32m[I 2022-12-13 19:04:56,062]\u001b[0m Trial 46 finished with value: 0.0758386128238359 and parameters: {'n_factors': 64, 'LEARNING_RATE': 0.02, 'USER_ALPHA': 0.6000000000000001, 'ITEM_ALPHA': 0.6000000000000001, 'Epochs': 1}. Best is trial 28 with value: 0.0758386128238359.\u001b[0m\n",
            "\u001b[32m[I 2022-12-13 19:07:16,484]\u001b[0m Trial 47 finished with value: 0.07132131090834533 and parameters: {'n_factors': 64, 'LEARNING_RATE': 0.03, 'USER_ALPHA': 0.6000000000000001, 'ITEM_ALPHA': 0.6000000000000001, 'Epochs': 1}. Best is trial 28 with value: 0.0758386128238359.\u001b[0m\n",
            "\u001b[32m[I 2022-12-13 19:12:43,600]\u001b[0m Trial 48 finished with value: 0.07519545408353265 and parameters: {'n_factors': 128, 'LEARNING_RATE': 0.04, 'USER_ALPHA': 0.2, 'ITEM_ALPHA': 0.6000000000000001, 'Epochs': 2}. Best is trial 28 with value: 0.0758386128238359.\u001b[0m\n",
            "\u001b[32m[I 2022-12-13 19:15:03,054]\u001b[0m Trial 49 finished with value: 0.00847811455041799 and parameters: {'n_factors': 64, 'LEARNING_RATE': 0.02, 'USER_ALPHA': 1.0, 'ITEM_ALPHA': 1.0, 'Epochs': 1}. Best is trial 28 with value: 0.0758386128238359.\u001b[0m\n",
            "\u001b[32m[I 2022-12-13 19:17:33,634]\u001b[0m Trial 50 finished with value: 0.0040654243288994535 and parameters: {'n_factors': 64, 'LEARNING_RATE': 0.03, 'USER_ALPHA': 0.6000000000000001, 'ITEM_ALPHA': 0.2, 'Epochs': 1}. Best is trial 28 with value: 0.0758386128238359.\u001b[0m\n",
            "\u001b[32m[I 2022-12-13 19:19:45,403]\u001b[0m Trial 51 finished with value: 0.0758386128238359 and parameters: {'n_factors': 64, 'LEARNING_RATE': 0.02, 'USER_ALPHA': 0.6000000000000001, 'ITEM_ALPHA': 0.6000000000000001, 'Epochs': 1}. Best is trial 28 with value: 0.0758386128238359.\u001b[0m\n",
            "\u001b[32m[I 2022-12-13 19:21:58,516]\u001b[0m Trial 52 finished with value: 0.0758386128238359 and parameters: {'n_factors': 64, 'LEARNING_RATE': 0.02, 'USER_ALPHA': 0.6000000000000001, 'ITEM_ALPHA': 0.6000000000000001, 'Epochs': 1}. Best is trial 28 with value: 0.0758386128238359.\u001b[0m\n",
            "\u001b[32m[I 2022-12-13 19:24:14,928]\u001b[0m Trial 53 finished with value: 0.0758386128238359 and parameters: {'n_factors': 64, 'LEARNING_RATE': 0.02, 'USER_ALPHA': 0.6000000000000001, 'ITEM_ALPHA': 0.6000000000000001, 'Epochs': 1}. Best is trial 28 with value: 0.0758386128238359.\u001b[0m\n",
            "\u001b[32m[I 2022-12-13 19:30:39,133]\u001b[0m Trial 54 finished with value: 0.0033220462729528118 and parameters: {'n_factors': 256, 'LEARNING_RATE': 0.02, 'USER_ALPHA': 0.6000000000000001, 'ITEM_ALPHA': 0.6000000000000001, 'Epochs': 1}. Best is trial 28 with value: 0.0758386128238359.\u001b[0m\n",
            "\u001b[32m[I 2022-12-13 19:32:53,757]\u001b[0m Trial 55 finished with value: 0.0758386128238359 and parameters: {'n_factors': 64, 'LEARNING_RATE': 0.02, 'USER_ALPHA': 0.6000000000000001, 'ITEM_ALPHA': 0.6000000000000001, 'Epochs': 1}. Best is trial 28 with value: 0.0758386128238359.\u001b[0m\n"
          ]
        },
        {
          "output_type": "execute_result",
          "data": {
            "text/plain": [
              "{'n_factors': 64,\n",
              " 'LEARNING_RATE': 0.02,\n",
              " 'USER_ALPHA': 0.6000000000000001,\n",
              " 'ITEM_ALPHA': 0.6000000000000001,\n",
              " 'Epochs': 1}"
            ]
          },
          "metadata": {},
          "execution_count": 84
        }
      ],
      "source": [
        "map_score = 0\n",
        "\n",
        "\n",
        "def objective(trial):\n",
        "    model = LightFMWrapperModel(\n",
        "        LightFM(\n",
        "            no_components=trial.suggest_categorical('n_factors',N_FACTORS), \n",
        "            loss= 'warp', \n",
        "            random_state=RANDOM_STATE,\n",
        "            learning_rate= trial.suggest_float('LEARNING_RATE',0.02,0.05,step=0.01),\n",
        "            user_alpha= trial.suggest_float('USER_ALPHA',0.2,1,step=0.4),\n",
        "            item_alpha=trial.suggest_float('ITEM_ALPHA',0.2,1,step=0.4),\n",
        "        ),\n",
        "        epochs=trial.suggest_int('Epochs', 1,2),\n",
        "        num_threads=NUM_THREADS,\n",
        "    )\n",
        "    model.fit(dataset)\n",
        "    recos = model.recommend(\n",
        "        users=TEST_USERS,\n",
        "        dataset=dataset,\n",
        "        k=K_RECOS,\n",
        "        filter_viewed=True,\n",
        "    )\n",
        "    metric_values = calc_metrics(metrics, recos, test, train)\n",
        "    if metric_values.get('MAP@10') >= map_score:\n",
        "        with open(f'models/LightFM.dill', 'wb') as file: \n",
        "            pickle.dump(\"LightFM_best\", file)\n",
        "    return metric_values.get('MAP@10')\n",
        "\n",
        "\n",
        "study_LightFM = optuna.create_study(direction='maximize')\n",
        "study_LightFM.optimize(objective,n_trials=3600, timeout=10800)\n",
        "study_LightFM.best_params\n"
      ]
    },
    {
      "cell_type": "code",
      "source": [
        "map_score = 0\n",
        "def objective(trial):\n",
        "    model = ImplicitALSWrapperModel(\n",
        "        model=AlternatingLeastSquares(\n",
        "            factors=trial.suggest_categorical('n_factors', N_FACTORS),\n",
        "            random_state=RANDOM_STATE,\n",
        "            num_threads=4,\n",
        "        ),\n",
        "        fit_features_together=trial.suggest_categorical('is_fitting_features',[True, False])\n",
        "    )\n",
        "    model.fit(dataset)\n",
        "    recos = model.recommend(\n",
        "        users=TEST_USERS,\n",
        "        dataset=dataset,\n",
        "        k=K_RECOS,\n",
        "        filter_viewed=True,\n",
        "    )\n",
        "    metric_values = calc_metrics(metrics, recos, test, train)\n",
        "    if metric_values.get('MAP@10') >= map_score:\n",
        "        with open(f'models/ALS.dill', 'wb') as file: \n",
        "            pickle.dump(\"ALS_best\", file)\n",
        "    return metric_values.get('MAP@10')\n",
        "\n",
        "study_als = optuna.create_study(direction='maximize')\n",
        "study_als.optimize(objective,n_trials=8, timeout=1800)\n",
        "\n",
        "study_als.best_params"
      ],
      "metadata": {
        "colab": {
          "base_uri": "https://localhost:8080/"
        },
        "id": "xXjWnsTveIex",
        "outputId": "99d942dd-d9a7-4014-a91e-de5127a7dc7b"
      },
      "execution_count": 85,
      "outputs": [
        {
          "output_type": "stream",
          "name": "stderr",
          "text": [
            "\u001b[32m[I 2022-12-13 19:32:53,777]\u001b[0m A new study created in memory with name: no-name-44c61a00-ed9f-4341-8e22-0b15afb0926a\u001b[0m\n",
            "\u001b[32m[I 2022-12-13 19:35:34,590]\u001b[0m Trial 0 finished with value: 0.06322509491192645 and parameters: {'n_factors': 256, 'is_fitting_features': False}. Best is trial 0 with value: 0.06322509491192645.\u001b[0m\n",
            "\u001b[32m[I 2022-12-13 19:37:13,610]\u001b[0m Trial 1 finished with value: 0.07388927306636595 and parameters: {'n_factors': 32, 'is_fitting_features': True}. Best is trial 1 with value: 0.07388927306636595.\u001b[0m\n",
            "\u001b[32m[I 2022-12-13 19:39:09,624]\u001b[0m Trial 2 finished with value: 0.06421853224681903 and parameters: {'n_factors': 128, 'is_fitting_features': False}. Best is trial 1 with value: 0.07388927306636595.\u001b[0m\n",
            "\u001b[32m[I 2022-12-13 19:40:50,291]\u001b[0m Trial 3 finished with value: 0.06382138704646514 and parameters: {'n_factors': 64, 'is_fitting_features': False}. Best is trial 1 with value: 0.07388927306636595.\u001b[0m\n",
            "\u001b[32m[I 2022-12-13 19:42:33,578]\u001b[0m Trial 4 finished with value: 0.06382138704646514 and parameters: {'n_factors': 64, 'is_fitting_features': False}. Best is trial 1 with value: 0.07388927306636595.\u001b[0m\n",
            "\u001b[32m[I 2022-12-13 19:45:08,035]\u001b[0m Trial 5 finished with value: 0.06322509491192645 and parameters: {'n_factors': 256, 'is_fitting_features': False}. Best is trial 1 with value: 0.07388927306636595.\u001b[0m\n",
            "\u001b[32m[I 2022-12-13 19:47:48,157]\u001b[0m Trial 6 finished with value: 0.06322509491192645 and parameters: {'n_factors': 256, 'is_fitting_features': False}. Best is trial 1 with value: 0.07388927306636595.\u001b[0m\n",
            "\u001b[32m[I 2022-12-13 19:49:57,809]\u001b[0m Trial 7 finished with value: 0.07531083116783566 and parameters: {'n_factors': 128, 'is_fitting_features': True}. Best is trial 7 with value: 0.07531083116783566.\u001b[0m\n"
          ]
        },
        {
          "output_type": "execute_result",
          "data": {
            "text/plain": [
              "{'n_factors': 128, 'is_fitting_features': True}"
            ]
          },
          "metadata": {},
          "execution_count": 85
        }
      ]
    },
    {
      "cell_type": "code",
      "source": [
        "lightfm_params = study_LightFM.best_params\n",
        "als_params = study_als.best_params\n",
        "print(lightfm_params)\n",
        "print(als_params.get(\"is_fitting_features\"))"
      ],
      "metadata": {
        "id": "pkGSm2xEn56A",
        "colab": {
          "base_uri": "https://localhost:8080/"
        },
        "outputId": "3803100a-e398-4314-f980-38a4fa39d607"
      },
      "execution_count": 86,
      "outputs": [
        {
          "output_type": "stream",
          "name": "stdout",
          "text": [
            "{'n_factors': 64, 'LEARNING_RATE': 0.02, 'USER_ALPHA': 0.6000000000000001, 'ITEM_ALPHA': 0.6000000000000001, 'Epochs': 1}\n",
            "True\n"
          ]
        }
      ]
    },
    {
      "cell_type": "code",
      "source": [
        "models[f\"ALS_n_factors_{als_params.get('n_factors')}_{als_params.get('is_fitting_features')}\"] = ImplicitALSWrapperModel(\n",
        "    model=AlternatingLeastSquares(\n",
        "        factors=als_params.get(\"n_factors\"),\n",
        "        random_state=RANDOM_STATE,\n",
        "        num_threads=4,\n",
        "       ),\n",
        "    fit_features_together=als_params.get(\"is_fitting_features\")\n",
        "    )\n",
        "\n",
        "\n",
        "models[f\"LightFM_warp_{lightfm_params.get('n_factors')}_{lightfm_params.get('LEARNING_RATE')}_{lightfm_params.get('USER_ALPHA')}_{lightfm_params.get('ITEM_ALPHA')}_{lightfm_params.get('Epochs')}\"] = LightFMWrapperModel(\n",
        "    LightFM(\n",
        "        no_components=lightfm_params.get(\"n_factors\"), \n",
        "        loss= 'warp', \n",
        "        random_state=RANDOM_STATE,\n",
        "        learning_rate= lightfm_params.get(\"LEARNING_RATE\"),\n",
        "        user_alpha= lightfm_params.get(\"USER_ALPHA\"),\n",
        "        item_alpha=lightfm_params.get(\"ITEM_ALPHA\"),\n",
        "    ),\n",
        "    epochs=lightfm_params.get(\"Epochs\"),\n",
        "    num_threads=NUM_THREADS,\n",
        ")"
      ],
      "metadata": {
        "id": "_WGnG2t8kdia"
      },
      "execution_count": 87,
      "outputs": []
    },
    {
      "cell_type": "code",
      "source": [
        "model_names = list(models.keys())\n",
        "model_names"
      ],
      "metadata": {
        "id": "LHIykW9m-8by",
        "colab": {
          "base_uri": "https://localhost:8080/"
        },
        "outputId": "8c37833a-3f32-4e60-cf04-bae556c99c78"
      },
      "execution_count": 88,
      "outputs": [
        {
          "output_type": "execute_result",
          "data": {
            "text/plain": [
              "['popular',\n",
              " 'ALS_n_factors_128_True',\n",
              " 'LightFM_warp_64_0.02_0.6000000000000001_0.6000000000000001_1']"
            ]
          },
          "metadata": {},
          "execution_count": 88
        }
      ]
    },
    {
      "cell_type": "code",
      "execution_count": 89,
      "metadata": {
        "id": "9SQOqZET0h-w",
        "colab": {
          "base_uri": "https://localhost:8080/"
        },
        "outputId": "cf871c34-c9d1-432e-c152-d7f9a43e6055"
      },
      "outputs": [
        {
          "output_type": "stream",
          "name": "stdout",
          "text": [
            "Fitting model popular...\n",
            "Fitting model ALS_n_factors_128_True...\n",
            "Fitting model LightFM_warp_64_0.02_0.6000000000000001_0.6000000000000001_1...\n",
            "CPU times: user 5min 48s, sys: 1min 30s, total: 7min 18s\n",
            "Wall time: 4min 31s\n"
          ]
        }
      ],
      "source": [
        "%%time\n",
        "results = []\n",
        "for model_name, model in models.items():\n",
        "    print(f\"Fitting model {model_name}...\")\n",
        "    model_quality = {'model': model_name}\n",
        "\n",
        "    model.fit(dataset)\n",
        "    recos = model.recommend(\n",
        "        users=TEST_USERS,\n",
        "        dataset=dataset,\n",
        "        k=K_RECOS,\n",
        "        filter_viewed=True,\n",
        "    )\n",
        "    metric_values = calc_metrics(metrics, recos, test, train)\n",
        "    model_quality.update(metric_values)\n",
        "    results.append(model_quality)"
      ]
    },
    {
      "cell_type": "code",
      "execution_count": 90,
      "metadata": {
        "id": "34uCKc8G0h-w"
      },
      "outputs": [],
      "source": [
        "df_quality = pd.DataFrame(results).T\n",
        "\n",
        "df_quality.columns = df_quality.iloc[0]\n",
        "\n",
        "df_quality.drop('model', inplace=True)"
      ]
    },
    {
      "cell_type": "code",
      "execution_count": 91,
      "metadata": {
        "id": "8oZDPboK0h-x",
        "colab": {
          "base_uri": "https://localhost:8080/",
          "height": 0
        },
        "outputId": "bba6de4b-242a-4907-c4f6-de834b3bd5a0"
      },
      "outputs": [
        {
          "output_type": "execute_result",
          "data": {
            "text/plain": [
              "<pandas.io.formats.style.Styler at 0x7fec5e5d5910>"
            ],
            "text/html": [
              "<style type=\"text/css\">\n",
              "#T_265f3_row0_col1, #T_265f3_row1_col1, #T_265f3_row2_col1, #T_265f3_row3_col1, #T_265f3_row4_col2, #T_265f3_row5_col2, #T_265f3_row6_col0, #T_265f3_row7_col0, #T_265f3_row8_col0, #T_265f3_row9_col0, #T_265f3_row10_col0, #T_265f3_row11_col0, #T_265f3_row12_col0, #T_265f3_row13_col0, #T_265f3_row14_col0, #T_265f3_row15_col0, #T_265f3_row16_col0, #T_265f3_row17_col0, #T_265f3_row18_col0, #T_265f3_row19_col0, #T_265f3_row20_col1, #T_265f3_row21_col1, #T_265f3_row22_col2, #T_265f3_row23_col2, #T_265f3_row24_col2, #T_265f3_row25_col2, #T_265f3_row26_col2, #T_265f3_row27_col2, #T_265f3_row28_col2, #T_265f3_row29_col2 {\n",
              "  background-color: lightgreen;\n",
              "}\n",
              "</style>\n",
              "<table id=\"T_265f3_\" class=\"dataframe\">\n",
              "  <thead>\n",
              "    <tr>\n",
              "      <th class=\"index_name level0\" >model</th>\n",
              "      <th class=\"col_heading level0 col0\" >popular</th>\n",
              "      <th class=\"col_heading level0 col1\" >ALS_n_factors_128_True</th>\n",
              "      <th class=\"col_heading level0 col2\" >LightFM_warp_64_0.02_0.6000000000000001_0.6000000000000001_1</th>\n",
              "    </tr>\n",
              "  </thead>\n",
              "  <tbody>\n",
              "    <tr>\n",
              "      <th id=\"T_265f3_level0_row0\" class=\"row_heading level0 row0\" >Precision@1</th>\n",
              "      <td id=\"T_265f3_row0_col0\" class=\"data row0 col0\" >0.069368</td>\n",
              "      <td id=\"T_265f3_row0_col1\" class=\"data row0 col1\" >0.082504</td>\n",
              "      <td id=\"T_265f3_row0_col2\" class=\"data row0 col2\" >0.075697</td>\n",
              "    </tr>\n",
              "    <tr>\n",
              "      <th id=\"T_265f3_level0_row1\" class=\"row_heading level0 row1\" >Recall@1</th>\n",
              "      <td id=\"T_265f3_row1_col0\" class=\"data row1 col0\" >0.035863</td>\n",
              "      <td id=\"T_265f3_row1_col1\" class=\"data row1 col1\" >0.042603</td>\n",
              "      <td id=\"T_265f3_row1_col2\" class=\"data row1 col2\" >0.039784</td>\n",
              "    </tr>\n",
              "    <tr>\n",
              "      <th id=\"T_265f3_level0_row2\" class=\"row_heading level0 row2\" >Precision@2</th>\n",
              "      <td id=\"T_265f3_row2_col0\" class=\"data row2 col0\" >0.063681</td>\n",
              "      <td id=\"T_265f3_row2_col1\" class=\"data row2 col1\" >0.069634</td>\n",
              "      <td id=\"T_265f3_row2_col2\" class=\"data row2 col2\" >0.066514</td>\n",
              "    </tr>\n",
              "    <tr>\n",
              "      <th id=\"T_265f3_level0_row3\" class=\"row_heading level0 row3\" >Recall@2</th>\n",
              "      <td id=\"T_265f3_row3_col0\" class=\"data row3 col0\" >0.064597</td>\n",
              "      <td id=\"T_265f3_row3_col1\" class=\"data row3 col1\" >0.070168</td>\n",
              "      <td id=\"T_265f3_row3_col2\" class=\"data row3 col2\" >0.067430</td>\n",
              "    </tr>\n",
              "    <tr>\n",
              "      <th id=\"T_265f3_level0_row4\" class=\"row_heading level0 row4\" >Precision@3</th>\n",
              "      <td id=\"T_265f3_row4_col0\" class=\"data row4 col0\" >0.059233</td>\n",
              "      <td id=\"T_265f3_row4_col1\" class=\"data row4 col1\" >0.060006</td>\n",
              "      <td id=\"T_265f3_row4_col2\" class=\"data row4 col2\" >0.063688</td>\n",
              "    </tr>\n",
              "    <tr>\n",
              "      <th id=\"T_265f3_level0_row5\" class=\"row_heading level0 row5\" >Recall@3</th>\n",
              "      <td id=\"T_265f3_row5_col0\" class=\"data row5 col0\" >0.088080</td>\n",
              "      <td id=\"T_265f3_row5_col1\" class=\"data row5 col1\" >0.088920</td>\n",
              "      <td id=\"T_265f3_row5_col2\" class=\"data row5 col2\" >0.094912</td>\n",
              "    </tr>\n",
              "    <tr>\n",
              "      <th id=\"T_265f3_level0_row6\" class=\"row_heading level0 row6\" >Precision@4</th>\n",
              "      <td id=\"T_265f3_row6_col0\" class=\"data row6 col0\" >0.057348</td>\n",
              "      <td id=\"T_265f3_row6_col1\" class=\"data row6 col1\" >0.053298</td>\n",
              "      <td id=\"T_265f3_row6_col2\" class=\"data row6 col2\" >0.057248</td>\n",
              "    </tr>\n",
              "    <tr>\n",
              "      <th id=\"T_265f3_level0_row7\" class=\"row_heading level0 row7\" >Recall@4</th>\n",
              "      <td id=\"T_265f3_row7_col0\" class=\"data row7 col0\" >0.112881</td>\n",
              "      <td id=\"T_265f3_row7_col1\" class=\"data row7 col1\" >0.103797</td>\n",
              "      <td id=\"T_265f3_row7_col2\" class=\"data row7 col2\" >0.112635</td>\n",
              "    </tr>\n",
              "    <tr>\n",
              "      <th id=\"T_265f3_level0_row8\" class=\"row_heading level0 row8\" >Precision@5</th>\n",
              "      <td id=\"T_265f3_row8_col0\" class=\"data row8 col0\" >0.051035</td>\n",
              "      <td id=\"T_265f3_row8_col1\" class=\"data row8 col1\" >0.047603</td>\n",
              "      <td id=\"T_265f3_row8_col2\" class=\"data row8 col2\" >0.050915</td>\n",
              "    </tr>\n",
              "    <tr>\n",
              "      <th id=\"T_265f3_level0_row9\" class=\"row_heading level0 row9\" >Recall@5</th>\n",
              "      <td id=\"T_265f3_row9_col0\" class=\"data row9 col0\" >0.124184</td>\n",
              "      <td id=\"T_265f3_row9_col1\" class=\"data row9 col1\" >0.114411</td>\n",
              "      <td id=\"T_265f3_row9_col2\" class=\"data row9 col2\" >0.123790</td>\n",
              "    </tr>\n",
              "    <tr>\n",
              "      <th id=\"T_265f3_level0_row10\" class=\"row_heading level0 row10\" >Precision@6</th>\n",
              "      <td id=\"T_265f3_row10_col0\" class=\"data row10 col0\" >0.045992</td>\n",
              "      <td id=\"T_265f3_row10_col1\" class=\"data row10 col1\" >0.042613</td>\n",
              "      <td id=\"T_265f3_row10_col2\" class=\"data row10 col2\" >0.045732</td>\n",
              "    </tr>\n",
              "    <tr>\n",
              "      <th id=\"T_265f3_level0_row11\" class=\"row_heading level0 row11\" >Recall@6</th>\n",
              "      <td id=\"T_265f3_row11_col0\" class=\"data row11 col0\" >0.132959</td>\n",
              "      <td id=\"T_265f3_row11_col1\" class=\"data row11 col1\" >0.121727</td>\n",
              "      <td id=\"T_265f3_row11_col2\" class=\"data row11 col2\" >0.132079</td>\n",
              "    </tr>\n",
              "    <tr>\n",
              "      <th id=\"T_265f3_level0_row12\" class=\"row_heading level0 row12\" >Precision@7</th>\n",
              "      <td id=\"T_265f3_row12_col0\" class=\"data row12 col0\" >0.041242</td>\n",
              "      <td id=\"T_265f3_row12_col1\" class=\"data row12 col1\" >0.038739</td>\n",
              "      <td id=\"T_265f3_row12_col2\" class=\"data row12 col2\" >0.040868</td>\n",
              "    </tr>\n",
              "    <tr>\n",
              "      <th id=\"T_265f3_level0_row13\" class=\"row_heading level0 row13\" >Recall@7</th>\n",
              "      <td id=\"T_265f3_row13_col0\" class=\"data row13 col0\" >0.138390</td>\n",
              "      <td id=\"T_265f3_row13_col1\" class=\"data row13 col1\" >0.128187</td>\n",
              "      <td id=\"T_265f3_row13_col2\" class=\"data row13 col2\" >0.137027</td>\n",
              "    </tr>\n",
              "    <tr>\n",
              "      <th id=\"T_265f3_level0_row14\" class=\"row_heading level0 row14\" >Precision@8</th>\n",
              "      <td id=\"T_265f3_row14_col0\" class=\"data row14 col0\" >0.037793</td>\n",
              "      <td id=\"T_265f3_row14_col1\" class=\"data row14 col1\" >0.035688</td>\n",
              "      <td id=\"T_265f3_row14_col2\" class=\"data row14 col2\" >0.036982</td>\n",
              "    </tr>\n",
              "    <tr>\n",
              "      <th id=\"T_265f3_level0_row15\" class=\"row_heading level0 row15\" >Recall@8</th>\n",
              "      <td id=\"T_265f3_row15_col0\" class=\"data row15 col0\" >0.144335</td>\n",
              "      <td id=\"T_265f3_row15_col1\" class=\"data row15 col1\" >0.134042</td>\n",
              "      <td id=\"T_265f3_row15_col2\" class=\"data row15 col2\" >0.141171</td>\n",
              "    </tr>\n",
              "    <tr>\n",
              "      <th id=\"T_265f3_level0_row16\" class=\"row_heading level0 row16\" >Precision@9</th>\n",
              "      <td id=\"T_265f3_row16_col0\" class=\"data row16 col0\" >0.035072</td>\n",
              "      <td id=\"T_265f3_row16_col1\" class=\"data row16 col1\" >0.033246</td>\n",
              "      <td id=\"T_265f3_row16_col2\" class=\"data row16 col2\" >0.033754</td>\n",
              "    </tr>\n",
              "    <tr>\n",
              "      <th id=\"T_265f3_level0_row17\" class=\"row_heading level0 row17\" >Recall@9</th>\n",
              "      <td id=\"T_265f3_row17_col0\" class=\"data row17 col0\" >0.150372</td>\n",
              "      <td id=\"T_265f3_row17_col1\" class=\"data row17 col1\" >0.139646</td>\n",
              "      <td id=\"T_265f3_row17_col2\" class=\"data row17 col2\" >0.144724</td>\n",
              "    </tr>\n",
              "    <tr>\n",
              "      <th id=\"T_265f3_level0_row18\" class=\"row_heading level0 row18\" >Precision@10</th>\n",
              "      <td id=\"T_265f3_row18_col0\" class=\"data row18 col0\" >0.032803</td>\n",
              "      <td id=\"T_265f3_row18_col1\" class=\"data row18 col1\" >0.031218</td>\n",
              "      <td id=\"T_265f3_row18_col2\" class=\"data row18 col2\" >0.031289</td>\n",
              "    </tr>\n",
              "    <tr>\n",
              "      <th id=\"T_265f3_level0_row19\" class=\"row_heading level0 row19\" >Recall@10</th>\n",
              "      <td id=\"T_265f3_row19_col0\" class=\"data row19 col0\" >0.156070</td>\n",
              "      <td id=\"T_265f3_row19_col1\" class=\"data row19 col1\" >0.144912</td>\n",
              "      <td id=\"T_265f3_row19_col2\" class=\"data row19 col2\" >0.149003</td>\n",
              "    </tr>\n",
              "    <tr>\n",
              "      <th id=\"T_265f3_level0_row20\" class=\"row_heading level0 row20\" >MAP@1</th>\n",
              "      <td id=\"T_265f3_row20_col0\" class=\"data row20 col0\" >0.035863</td>\n",
              "      <td id=\"T_265f3_row20_col1\" class=\"data row20 col1\" >0.042603</td>\n",
              "      <td id=\"T_265f3_row20_col2\" class=\"data row20 col2\" >0.039784</td>\n",
              "    </tr>\n",
              "    <tr>\n",
              "      <th id=\"T_265f3_level0_row21\" class=\"row_heading level0 row21\" >MAP@2</th>\n",
              "      <td id=\"T_265f3_row21_col0\" class=\"data row21 col0\" >0.050787</td>\n",
              "      <td id=\"T_265f3_row21_col1\" class=\"data row21 col1\" >0.057067</td>\n",
              "      <td id=\"T_265f3_row21_col2\" class=\"data row21 col2\" >0.054236</td>\n",
              "    </tr>\n",
              "    <tr>\n",
              "      <th id=\"T_265f3_level0_row22\" class=\"row_heading level0 row22\" >MAP@3</th>\n",
              "      <td id=\"T_265f3_row22_col0\" class=\"data row22 col0\" >0.059216</td>\n",
              "      <td id=\"T_265f3_row22_col1\" class=\"data row22 col1\" >0.063852</td>\n",
              "      <td id=\"T_265f3_row22_col2\" class=\"data row22 col2\" >0.064040</td>\n",
              "    </tr>\n",
              "    <tr>\n",
              "      <th id=\"T_265f3_level0_row23\" class=\"row_heading level0 row23\" >MAP@4</th>\n",
              "      <td id=\"T_265f3_row23_col0\" class=\"data row23 col0\" >0.066049</td>\n",
              "      <td id=\"T_265f3_row23_col1\" class=\"data row23 col1\" >0.068012</td>\n",
              "      <td id=\"T_265f3_row23_col2\" class=\"data row23 col2\" >0.069036</td>\n",
              "    </tr>\n",
              "    <tr>\n",
              "      <th id=\"T_265f3_level0_row24\" class=\"row_heading level0 row24\" >MAP@5</th>\n",
              "      <td id=\"T_265f3_row24_col0\" class=\"data row24 col0\" >0.068720</td>\n",
              "      <td id=\"T_265f3_row24_col1\" class=\"data row24 col1\" >0.070471</td>\n",
              "      <td id=\"T_265f3_row24_col2\" class=\"data row24 col2\" >0.071675</td>\n",
              "    </tr>\n",
              "    <tr>\n",
              "      <th id=\"T_265f3_level0_row25\" class=\"row_heading level0 row25\" >MAP@6</th>\n",
              "      <td id=\"T_265f3_row25_col0\" class=\"data row25 col0\" >0.070471</td>\n",
              "      <td id=\"T_265f3_row25_col1\" class=\"data row25 col1\" >0.071925</td>\n",
              "      <td id=\"T_265f3_row25_col2\" class=\"data row25 col2\" >0.073323</td>\n",
              "    </tr>\n",
              "    <tr>\n",
              "      <th id=\"T_265f3_level0_row26\" class=\"row_heading level0 row26\" >MAP@7</th>\n",
              "      <td id=\"T_265f3_row26_col0\" class=\"data row26 col0\" >0.071412</td>\n",
              "      <td id=\"T_265f3_row26_col1\" class=\"data row26 col1\" >0.073034</td>\n",
              "      <td id=\"T_265f3_row26_col2\" class=\"data row26 col2\" >0.074207</td>\n",
              "    </tr>\n",
              "    <tr>\n",
              "      <th id=\"T_265f3_level0_row27\" class=\"row_heading level0 row27\" >MAP@8</th>\n",
              "      <td id=\"T_265f3_row27_col0\" class=\"data row27 col0\" >0.072334</td>\n",
              "      <td id=\"T_265f3_row27_col1\" class=\"data row27 col1\" >0.073917</td>\n",
              "      <td id=\"T_265f3_row27_col2\" class=\"data row27 col2\" >0.074836</td>\n",
              "    </tr>\n",
              "    <tr>\n",
              "      <th id=\"T_265f3_level0_row28\" class=\"row_heading level0 row28\" >MAP@9</th>\n",
              "      <td id=\"T_265f3_row28_col0\" class=\"data row28 col0\" >0.073142</td>\n",
              "      <td id=\"T_265f3_row28_col1\" class=\"data row28 col1\" >0.074668</td>\n",
              "      <td id=\"T_265f3_row28_col2\" class=\"data row28 col2\" >0.075326</td>\n",
              "    </tr>\n",
              "    <tr>\n",
              "      <th id=\"T_265f3_level0_row29\" class=\"row_heading level0 row29\" >MAP@10</th>\n",
              "      <td id=\"T_265f3_row29_col0\" class=\"data row29 col0\" >0.073836</td>\n",
              "      <td id=\"T_265f3_row29_col1\" class=\"data row29 col1\" >0.075311</td>\n",
              "      <td id=\"T_265f3_row29_col2\" class=\"data row29 col2\" >0.075839</td>\n",
              "    </tr>\n",
              "  </tbody>\n",
              "</table>\n"
            ]
          },
          "metadata": {},
          "execution_count": 91
        }
      ],
      "source": [
        "df_quality.style.highlight_max(color='lightgreen', axis=1)"
      ]
    },
    {
      "cell_type": "code",
      "source": [
        "for model_name in model_names:\n",
        "    with open(f'models/{model_name}.dill', 'wb') as file: \n",
        "        pickle.dump(models.get(model_name), file)"
      ],
      "metadata": {
        "id": "FpN_eB8Y9kGY"
      },
      "execution_count": 92,
      "outputs": []
    },
    {
      "cell_type": "code",
      "source": [
        "LightFM_model = models.get('LightFM_warp_64_0.02_0.6000000000000001_0.6000000000000001_1')"
      ],
      "metadata": {
        "id": "_Ea9lWVCE4Rv"
      },
      "execution_count": 94,
      "outputs": []
    },
    {
      "cell_type": "markdown",
      "metadata": {
        "id": "YQ_VHcdU0h-x"
      },
      "source": [
        "# Approximate Nearest Neighbors "
      ]
    },
    {
      "cell_type": "code",
      "execution_count": 95,
      "metadata": {
        "id": "i5IgX9zG0h-x"
      },
      "outputs": [],
      "source": [
        "import nmslib"
      ]
    },
    {
      "cell_type": "markdown",
      "metadata": {
        "id": "tsoCdUaH0h-x"
      },
      "source": [
        "# HNSW algorithm parameters\n",
        "\n",
        "## Search parameters:\n",
        "* ```ef``` - the size of the dynamic list for the nearest neighbors (used during the search). Higher ```ef```\n",
        "leads to more accurate but slower search. ```ef``` cannot be set lower than the number of queried nearest neighbors\n",
        "```k```. The value ```ef``` of can be anything between ```k``` and the size of the dataset.\n",
        "* ```k``` number of nearest neighbors to be returned as the result.\n",
        "The ```knn_query``` function returns two numpy arrays, containing labels and distances to the k found nearest \n",
        "elements for the queries. Note that in case the algorithm is not be able to find ```k``` neighbors to all of the queries,\n",
        "(this can be due to problems with graph or ```k```>size of the dataset) an exception is thrown.\n",
        "\n",
        "\n",
        "## Construction parameters:\n",
        "* ```M``` - the number of bi-directional links created for every new element during construction. Reasonable range for ```M``` \n",
        "is 2-100. Higher ```M``` work better on datasets with high intrinsic dimensionality and/or high recall, while low ```M``` work \n",
        "better for datasets with low intrinsic dimensionality and/or low recalls. The parameter also determines the algorithm's memory \n",
        "consumption, which is roughly ```M * 8-10``` bytes per stored element.  \n",
        "As an example for ```dim```=4 random vectors optimal ```M``` for search is somewhere around 6, while for high dimensional datasets \n",
        "(word embeddings, good face descriptors), higher ```M``` are required (e.g. ```M```=48-64) for optimal performance at high recall. \n",
        "The range ```M```=12-48 is ok for the most of the use cases. When ```M``` is changed one has to update the other parameters. \n",
        "Nonetheless, ef and ef_construction parameters can be roughly estimated by assuming that ```M```*```ef_{construction}``` is \n",
        "a constant.\n",
        "\n",
        "* ```ef_construction``` - the parameter has the same meaning as ```ef```, but controls the index_time/index_accuracy. Bigger \n",
        "ef_construction leads to longer construction, but better index quality. At some point, increasing ef_construction does\n",
        "not improve the quality of the index. One way to check if the selection of ef_construction was ok is to measure a recall \n",
        "for M nearest neighbor search when ```ef``` =```ef_construction```: if the recall is lower than 0.9, than there is room \n",
        "for improvement.\n",
        "* ```num_elements``` - defines the maximum number of elements in the index. The index can be extened by saving/loading(load_index\n",
        "function has a parameter which defines the new maximum number of elements).\n",
        "\n",
        "Еще источники: \n",
        "- [Nmslib Docs](https://github.com/nmslib/nmslib/blob/master/manual/methods.md)\n",
        "- [Pinecone Vector Indexes](https://www.pinecone.io/learn/vector-indexes/)"
      ]
    },
    {
      "cell_type": "markdown",
      "metadata": {
        "id": "Uz3P_HFV0h-y"
      },
      "source": [
        "<img src=\"https://d33wubrfki0l68.cloudfront.net/4c635fabb268a4af60109a506300a2dfda612063/d2535/images/similarity-search-indexes17.jpg\">"
      ]
    },
    {
      "cell_type": "markdown",
      "metadata": {
        "id": "mDkioOBd0h-y"
      },
      "source": [
        "<img src=\"https://d33wubrfki0l68.cloudfront.net/96d80cd46c2d12df99c044c860a8a5fb00cf6376/d59ca/images/similarity-search-indexes18.jpg\">"
      ]
    },
    {
      "cell_type": "code",
      "execution_count": 144,
      "metadata": {
        "id": "wBz-PnOC0h-y"
      },
      "outputs": [],
      "source": [
        "import time"
      ]
    },
    {
      "cell_type": "code",
      "execution_count": 145,
      "metadata": {
        "id": "LYMw9yDY0h-y"
      },
      "outputs": [],
      "source": [
        "user_embeddings, item_embeddings = LightFM_model.get_vectors(dataset)"
      ]
    },
    {
      "cell_type": "code",
      "execution_count": 146,
      "metadata": {
        "id": "nqtwD9j50h-y",
        "colab": {
          "base_uri": "https://localhost:8080/"
        },
        "outputId": "45c3d141-647b-4025-f016-b8897dfd7719"
      },
      "outputs": [
        {
          "output_type": "execute_result",
          "data": {
            "text/plain": [
              "((756562, 66), (14019, 66))"
            ]
          },
          "metadata": {},
          "execution_count": 146
        }
      ],
      "source": [
        "user_embeddings.shape, item_embeddings.shape"
      ]
    },
    {
      "cell_type": "code",
      "execution_count": 147,
      "metadata": {
        "id": "w6P9qGin0h-y"
      },
      "outputs": [],
      "source": [
        "def augment_inner_product(factors):\n",
        "    normed_factors = np.linalg.norm(factors, axis=1)\n",
        "    max_norm = normed_factors.max()\n",
        "    \n",
        "    extra_dim = np.sqrt(max_norm ** 2 - normed_factors ** 2).reshape(-1, 1)\n",
        "    augmented_factors = np.append(factors, extra_dim, axis=1)\n",
        "    return max_norm, augmented_factors"
      ]
    },
    {
      "cell_type": "code",
      "execution_count": 150,
      "metadata": {
        "id": "6AOhLG7u0h-z",
        "colab": {
          "base_uri": "https://localhost:8080/"
        },
        "outputId": "28bea243-4d5f-4e8e-b7ba-605d7dae79a4"
      },
      "outputs": [
        {
          "output_type": "stream",
          "name": "stdout",
          "text": [
            "pre shape:  (14019, 66)\n",
            "augmented item embedding shape: (14019, 67) \n",
            "max_norm: 1.000000000000715\n"
          ]
        }
      ],
      "source": [
        "print('pre shape: ', item_embeddings.shape)\n",
        "max_norm, augmented_item_embeddings = augment_inner_product(item_embeddings)\n",
        "print(f'augmented item embedding shape: {augmented_item_embeddings.shape} \\nmax_norm: {max_norm}')"
      ]
    },
    {
      "cell_type": "code",
      "execution_count": 151,
      "metadata": {
        "colab": {
          "base_uri": "https://localhost:8080/"
        },
        "id": "8hpQ5Upb0h-z",
        "outputId": "04cfb3b3-bc30-4988-ab63-213f1dd8316c"
      },
      "outputs": [
        {
          "output_type": "execute_result",
          "data": {
            "text/plain": [
              "(756562, 67)"
            ]
          },
          "metadata": {},
          "execution_count": 151
        }
      ],
      "source": [
        "extra_zero = np.zeros((user_embeddings.shape[0], 1))\n",
        "augmented_user_embeddings = np.append(user_embeddings, extra_zero, axis=1)\n",
        "augmented_user_embeddings.shape"
      ]
    },
    {
      "cell_type": "code",
      "execution_count": 154,
      "metadata": {
        "id": "3hZZNvh10h-z"
      },
      "outputs": [],
      "source": [
        "user_id = 1337"
      ]
    },
    {
      "cell_type": "code",
      "execution_count": 155,
      "metadata": {
        "id": "zLSfTL_z0h-z",
        "colab": {
          "base_uri": "https://localhost:8080/"
        },
        "outputId": "092eaad4-d804-408c-c203-f90634205619"
      },
      "outputs": [
        {
          "output_type": "execute_result",
          "data": {
            "text/plain": [
              "array([-4.63682272e-06,  1.00000000e+00,  0.00000000e+00,  0.00000000e+00,\n",
              "        0.00000000e+00,  0.00000000e+00,  0.00000000e+00,  0.00000000e+00,\n",
              "        0.00000000e+00,  0.00000000e+00,  0.00000000e+00,  0.00000000e+00,\n",
              "        0.00000000e+00,  0.00000000e+00,  0.00000000e+00,  0.00000000e+00,\n",
              "        0.00000000e+00,  0.00000000e+00,  0.00000000e+00,  0.00000000e+00,\n",
              "        0.00000000e+00,  0.00000000e+00,  0.00000000e+00,  0.00000000e+00,\n",
              "        0.00000000e+00,  0.00000000e+00,  0.00000000e+00,  0.00000000e+00,\n",
              "        0.00000000e+00,  0.00000000e+00,  0.00000000e+00,  0.00000000e+00,\n",
              "        0.00000000e+00,  0.00000000e+00,  0.00000000e+00,  0.00000000e+00,\n",
              "        0.00000000e+00,  0.00000000e+00,  0.00000000e+00,  0.00000000e+00,\n",
              "        0.00000000e+00,  0.00000000e+00,  0.00000000e+00,  0.00000000e+00,\n",
              "        0.00000000e+00,  0.00000000e+00,  0.00000000e+00,  0.00000000e+00,\n",
              "        0.00000000e+00,  0.00000000e+00,  0.00000000e+00,  0.00000000e+00,\n",
              "        0.00000000e+00,  0.00000000e+00,  0.00000000e+00,  0.00000000e+00,\n",
              "        0.00000000e+00,  0.00000000e+00,  0.00000000e+00,  0.00000000e+00,\n",
              "        0.00000000e+00,  0.00000000e+00,  0.00000000e+00,  0.00000000e+00,\n",
              "        0.00000000e+00,  0.00000000e+00])"
            ]
          },
          "metadata": {},
          "execution_count": 155
        }
      ],
      "source": [
        "user_embeddings[user_id]"
      ]
    },
    {
      "cell_type": "code",
      "execution_count": 156,
      "metadata": {
        "id": "533Q4Kd10h-z",
        "colab": {
          "base_uri": "https://localhost:8080/"
        },
        "outputId": "d50c7010-5335-4a0a-899b-0c674e0482b5"
      },
      "outputs": [
        {
          "output_type": "execute_result",
          "data": {
            "text/plain": [
              "array([-4.63682272e-06,  1.00000000e+00,  0.00000000e+00,  0.00000000e+00,\n",
              "        0.00000000e+00,  0.00000000e+00,  0.00000000e+00,  0.00000000e+00,\n",
              "        0.00000000e+00,  0.00000000e+00,  0.00000000e+00,  0.00000000e+00,\n",
              "        0.00000000e+00,  0.00000000e+00,  0.00000000e+00,  0.00000000e+00,\n",
              "        0.00000000e+00,  0.00000000e+00,  0.00000000e+00,  0.00000000e+00,\n",
              "        0.00000000e+00,  0.00000000e+00,  0.00000000e+00,  0.00000000e+00,\n",
              "        0.00000000e+00,  0.00000000e+00,  0.00000000e+00,  0.00000000e+00,\n",
              "        0.00000000e+00,  0.00000000e+00,  0.00000000e+00,  0.00000000e+00,\n",
              "        0.00000000e+00,  0.00000000e+00,  0.00000000e+00,  0.00000000e+00,\n",
              "        0.00000000e+00,  0.00000000e+00,  0.00000000e+00,  0.00000000e+00,\n",
              "        0.00000000e+00,  0.00000000e+00,  0.00000000e+00,  0.00000000e+00,\n",
              "        0.00000000e+00,  0.00000000e+00,  0.00000000e+00,  0.00000000e+00,\n",
              "        0.00000000e+00,  0.00000000e+00,  0.00000000e+00,  0.00000000e+00,\n",
              "        0.00000000e+00,  0.00000000e+00,  0.00000000e+00,  0.00000000e+00,\n",
              "        0.00000000e+00,  0.00000000e+00,  0.00000000e+00,  0.00000000e+00,\n",
              "        0.00000000e+00,  0.00000000e+00,  0.00000000e+00,  0.00000000e+00,\n",
              "        0.00000000e+00,  0.00000000e+00,  0.00000000e+00])"
            ]
          },
          "metadata": {},
          "execution_count": 156
        }
      ],
      "source": [
        "augmented_user_embeddings[user_id]"
      ]
    },
    {
      "cell_type": "code",
      "execution_count": 157,
      "metadata": {
        "id": "zxiP2zq-0h-z"
      },
      "outputs": [],
      "source": [
        "item_id = 140"
      ]
    },
    {
      "cell_type": "code",
      "execution_count": 158,
      "metadata": {
        "id": "G_6w10fF0h-0",
        "colab": {
          "base_uri": "https://localhost:8080/"
        },
        "outputId": "56174c88-1ac5-41d3-a9d8-930177eaf24c"
      },
      "outputs": [
        {
          "output_type": "execute_result",
          "data": {
            "text/plain": [
              "array([1.00000000e+00, 3.90120256e-08, 0.00000000e+00, 0.00000000e+00,\n",
              "       0.00000000e+00, 0.00000000e+00, 0.00000000e+00, 0.00000000e+00,\n",
              "       0.00000000e+00, 0.00000000e+00, 0.00000000e+00, 0.00000000e+00,\n",
              "       0.00000000e+00, 0.00000000e+00, 0.00000000e+00, 0.00000000e+00,\n",
              "       0.00000000e+00, 0.00000000e+00, 0.00000000e+00, 0.00000000e+00,\n",
              "       0.00000000e+00, 0.00000000e+00, 0.00000000e+00, 0.00000000e+00,\n",
              "       0.00000000e+00, 0.00000000e+00, 0.00000000e+00, 0.00000000e+00,\n",
              "       0.00000000e+00, 0.00000000e+00, 0.00000000e+00, 0.00000000e+00,\n",
              "       0.00000000e+00, 0.00000000e+00, 0.00000000e+00, 0.00000000e+00,\n",
              "       0.00000000e+00, 0.00000000e+00, 0.00000000e+00, 0.00000000e+00,\n",
              "       0.00000000e+00, 0.00000000e+00, 0.00000000e+00, 0.00000000e+00,\n",
              "       0.00000000e+00, 0.00000000e+00, 0.00000000e+00, 0.00000000e+00,\n",
              "       0.00000000e+00, 0.00000000e+00, 0.00000000e+00, 0.00000000e+00,\n",
              "       0.00000000e+00, 0.00000000e+00, 0.00000000e+00, 0.00000000e+00,\n",
              "       0.00000000e+00, 0.00000000e+00, 0.00000000e+00, 0.00000000e+00,\n",
              "       0.00000000e+00, 0.00000000e+00, 0.00000000e+00, 0.00000000e+00,\n",
              "       0.00000000e+00, 0.00000000e+00])"
            ]
          },
          "metadata": {},
          "execution_count": 158
        }
      ],
      "source": [
        "item_embeddings[item_id]"
      ]
    },
    {
      "cell_type": "code",
      "execution_count": 159,
      "metadata": {
        "id": "Cl5WuvBE0h-0",
        "colab": {
          "base_uri": "https://localhost:8080/"
        },
        "outputId": "831c11a8-9cb7-4abe-ab9d-17e36dfbe1b1"
      },
      "outputs": [
        {
          "output_type": "execute_result",
          "data": {
            "text/plain": [
              "array([1.00000000e+00, 3.90120256e-08, 0.00000000e+00, 0.00000000e+00,\n",
              "       0.00000000e+00, 0.00000000e+00, 0.00000000e+00, 0.00000000e+00,\n",
              "       0.00000000e+00, 0.00000000e+00, 0.00000000e+00, 0.00000000e+00,\n",
              "       0.00000000e+00, 0.00000000e+00, 0.00000000e+00, 0.00000000e+00,\n",
              "       0.00000000e+00, 0.00000000e+00, 0.00000000e+00, 0.00000000e+00,\n",
              "       0.00000000e+00, 0.00000000e+00, 0.00000000e+00, 0.00000000e+00,\n",
              "       0.00000000e+00, 0.00000000e+00, 0.00000000e+00, 0.00000000e+00,\n",
              "       0.00000000e+00, 0.00000000e+00, 0.00000000e+00, 0.00000000e+00,\n",
              "       0.00000000e+00, 0.00000000e+00, 0.00000000e+00, 0.00000000e+00,\n",
              "       0.00000000e+00, 0.00000000e+00, 0.00000000e+00, 0.00000000e+00,\n",
              "       0.00000000e+00, 0.00000000e+00, 0.00000000e+00, 0.00000000e+00,\n",
              "       0.00000000e+00, 0.00000000e+00, 0.00000000e+00, 0.00000000e+00,\n",
              "       0.00000000e+00, 0.00000000e+00, 0.00000000e+00, 0.00000000e+00,\n",
              "       0.00000000e+00, 0.00000000e+00, 0.00000000e+00, 0.00000000e+00,\n",
              "       0.00000000e+00, 0.00000000e+00, 0.00000000e+00, 0.00000000e+00,\n",
              "       0.00000000e+00, 0.00000000e+00, 0.00000000e+00, 0.00000000e+00,\n",
              "       0.00000000e+00, 0.00000000e+00, 1.19525520e-06])"
            ]
          },
          "metadata": {},
          "execution_count": 159
        }
      ],
      "source": [
        "augmented_item_embeddings[item_id]"
      ]
    },
    {
      "cell_type": "code",
      "execution_count": 160,
      "metadata": {
        "id": "CGOqpZEn0h-0",
        "colab": {
          "base_uri": "https://localhost:8080/"
        },
        "outputId": "df1f9044-da84-4f3e-e19c-e07098c443ab"
      },
      "outputs": [
        {
          "output_type": "stream",
          "name": "stdout",
          "text": [
            "Index-time parameters {'M': 64, 'indexThreadQty': 4, 'efConstruction': 100, 'post': 0}\n"
          ]
        }
      ],
      "source": [
        "# Set index parameters\n",
        "# These are the most important ones\n",
        "M = 64\n",
        "efC = 100\n",
        "\n",
        "num_threads = 4\n",
        "index_time_params = {'M': M, 'indexThreadQty': num_threads, 'efConstruction': efC, 'post' : 0}\n",
        "print('Index-time parameters', index_time_params)"
      ]
    },
    {
      "cell_type": "code",
      "execution_count": 161,
      "metadata": {
        "id": "nC15zUi70h-0"
      },
      "outputs": [],
      "source": [
        "# Number of neighbors \n",
        "K=10"
      ]
    },
    {
      "cell_type": "code",
      "execution_count": 164,
      "metadata": {
        "id": "VapJMD9N0h-0"
      },
      "outputs": [],
      "source": [
        "# Space name should correspond to the space name \n",
        "# used for brute-force search\n",
        "space_name='cosinesimil'"
      ]
    },
    {
      "cell_type": "code",
      "execution_count": 165,
      "metadata": {
        "id": "8JKqAfDu0h-0",
        "colab": {
          "base_uri": "https://localhost:8080/"
        },
        "outputId": "ae98895f-7424-4196-ac2f-49be005474e0"
      },
      "outputs": [
        {
          "output_type": "execute_result",
          "data": {
            "text/plain": [
              "14019"
            ]
          },
          "metadata": {},
          "execution_count": 165
        }
      ],
      "source": [
        "# Intitialize the library, specify the space, the type of the vector and add data points \n",
        "index = nmslib.init(method='hnsw', space=space_name, data_type=nmslib.DataType.DENSE_VECTOR) \n",
        "index.addDataPointBatch(augmented_item_embeddings) "
      ]
    },
    {
      "cell_type": "code",
      "execution_count": 166,
      "metadata": {
        "id": "Qhq2BiQ90h-1",
        "colab": {
          "base_uri": "https://localhost:8080/"
        },
        "outputId": "6bd52d34-6c8f-4b93-b73f-a3da3b058190"
      },
      "outputs": [
        {
          "output_type": "execute_result",
          "data": {
            "text/plain": [
              "<nmslib.FloatIndex method='hnsw' space='cosinesimil' at 0x38c453c0>"
            ]
          },
          "metadata": {},
          "execution_count": 166
        }
      ],
      "source": [
        "index"
      ]
    },
    {
      "cell_type": "code",
      "execution_count": 167,
      "metadata": {
        "id": "AMPpHIKZ0h-1",
        "colab": {
          "base_uri": "https://localhost:8080/"
        },
        "outputId": "cd092be0-a3da-4781-ecbd-9686b7bde9f9"
      },
      "outputs": [
        {
          "output_type": "stream",
          "name": "stdout",
          "text": [
            "Index-time parameters {'M': 64, 'indexThreadQty': 4, 'efConstruction': 100}\n",
            "Indexing time = 221.160709\n"
          ]
        }
      ],
      "source": [
        "# Create an index\n",
        "start = time.time()\n",
        "index_time_params = {'M': M, 'indexThreadQty': num_threads, 'efConstruction': efC}\n",
        "index.createIndex(index_time_params) \n",
        "end = time.time() \n",
        "print('Index-time parameters', index_time_params)\n",
        "print('Indexing time = %f' % (end-start))"
      ]
    },
    {
      "cell_type": "code",
      "execution_count": 168,
      "metadata": {
        "id": "Od5Hj8570h-1",
        "colab": {
          "base_uri": "https://localhost:8080/"
        },
        "outputId": "dbf32746-4bf6-43f4-8689-e3847f572e8c"
      },
      "outputs": [
        {
          "output_type": "stream",
          "name": "stdout",
          "text": [
            "Setting query-time parameters {'efSearch': 100}\n"
          ]
        }
      ],
      "source": [
        "# Setting query-time parameters\n",
        "efS = 100\n",
        "query_time_params = {'efSearch': efS}\n",
        "print('Setting query-time parameters', query_time_params)\n",
        "index.setQueryTimeParams(query_time_params)"
      ]
    },
    {
      "cell_type": "code",
      "source": [],
      "metadata": {
        "colab": {
          "base_uri": "https://localhost:8080/"
        },
        "id": "R0GL6qpmP3em",
        "outputId": "cb1f6e10-5599-4ba3-95bb-2e764cab8cd7"
      },
      "execution_count": 170,
      "outputs": [
        {
          "output_type": "execute_result",
          "data": {
            "text/plain": [
              "array([[-4.59065041e-06,  1.00000000e+00,  0.00000000e+00, ...,\n",
              "         0.00000000e+00,  0.00000000e+00,  0.00000000e+00],\n",
              "       [-4.59065041e-06,  1.00000000e+00,  0.00000000e+00, ...,\n",
              "         0.00000000e+00,  0.00000000e+00,  0.00000000e+00],\n",
              "       [-4.22146195e-06,  1.00000000e+00,  0.00000000e+00, ...,\n",
              "         0.00000000e+00,  0.00000000e+00,  0.00000000e+00],\n",
              "       ...,\n",
              "       [-3.89012575e-06,  1.00000000e+00,  0.00000000e+00, ...,\n",
              "         0.00000000e+00,  0.00000000e+00,  0.00000000e+00],\n",
              "       [-5.07700452e-06,  1.00000000e+00,  0.00000000e+00, ...,\n",
              "         0.00000000e+00,  0.00000000e+00,  0.00000000e+00],\n",
              "       [-5.07047707e-06,  1.00000000e+00,  0.00000000e+00, ...,\n",
              "         0.00000000e+00,  0.00000000e+00,  0.00000000e+00]])"
            ]
          },
          "metadata": {},
          "execution_count": 170
        }
      ]
    },
    {
      "cell_type": "code",
      "execution_count": 171,
      "metadata": {
        "id": "dBjguaaj0h-1"
      },
      "outputs": [],
      "source": [
        "query_matrix = augmented_user_embeddings[:1000, :]"
      ]
    },
    {
      "cell_type": "code",
      "execution_count": 172,
      "metadata": {
        "id": "LMrlwhVi0h-1",
        "colab": {
          "base_uri": "https://localhost:8080/"
        },
        "outputId": "9514ba3a-8950-4d65-e751-4443db73fe60"
      },
      "outputs": [
        {
          "output_type": "stream",
          "name": "stdout",
          "text": [
            "kNN time total=0.061148 (sec), per query=0.000061 (sec), per query adjusted for thread number=0.000245 (sec)\n"
          ]
        }
      ],
      "source": [
        "# Querying\n",
        "query_qty = query_matrix.shape[0]\n",
        "start = time.time() \n",
        "nbrs = index.knnQueryBatch(query_matrix, k = K, num_threads = num_threads)\n",
        "end = time.time() \n",
        "print('kNN time total=%f (sec), per query=%f (sec), per query adjusted for thread number=%f (sec)' % \n",
        "      (end-start, float(end-start)/query_qty, num_threads*float(end-start)/query_qty)) "
      ]
    },
    {
      "cell_type": "code",
      "execution_count": 173,
      "metadata": {
        "id": "evQzSGKn0h-1",
        "colab": {
          "base_uri": "https://localhost:8080/"
        },
        "outputId": "a4e0f812-0332-4a99-ffb2-4d1802240c1a"
      },
      "outputs": [
        {
          "output_type": "execute_result",
          "data": {
            "text/plain": [
              "(array([ 31,  43,  32,  19, 121, 268, 258, 255, 173, 164], dtype=int32),\n",
              " array([1.0000042, 1.0000043, 1.0000043, 1.0000043, 1.0000043, 1.0000044,\n",
              "        1.0000044, 1.0000044, 1.0000044, 1.0000044], dtype=float32))"
            ]
          },
          "metadata": {},
          "execution_count": 173
        }
      ],
      "source": [
        "nbrs[0]"
      ]
    },
    {
      "cell_type": "code",
      "execution_count": 174,
      "metadata": {
        "id": "dL3KfWt20h-2",
        "colab": {
          "base_uri": "https://localhost:8080/"
        },
        "outputId": "8756eb67-fafe-4b78-d651-7b8323db7978"
      },
      "outputs": [
        {
          "output_type": "execute_result",
          "data": {
            "text/plain": [
              "array([1.0000042, 1.0000043, 1.0000043, 1.0000043, 1.0000043, 1.0000044,\n",
              "       1.0000044, 1.0000044, 1.0000044, 1.0000044], dtype=float32)"
            ]
          },
          "metadata": {},
          "execution_count": 174
        }
      ],
      "source": [
        "nbrs[0][1]"
      ]
    },
    {
      "cell_type": "code",
      "execution_count": 175,
      "metadata": {
        "id": "vtgGsgi30h-2"
      },
      "outputs": [],
      "source": [
        "def recommend_all(query_factors, index_factors, topn=10):\n",
        "    output = query_factors.dot(index_factors.T)\n",
        "    argpartition_indices = np.argpartition(output, -topn)[:, -topn:]\n",
        "\n",
        "    x_indices = np.repeat(np.arange(output.shape[0]), topn)\n",
        "    y_indices = argpartition_indices.flatten()\n",
        "    top_value = output[x_indices, y_indices].reshape(output.shape[0], topn)\n",
        "    top_indices = np.argsort(top_value)[:, ::-1]\n",
        "\n",
        "    y_indices = top_indices.flatten()\n",
        "    top_indices = argpartition_indices[x_indices, y_indices]\n",
        "    labels = top_indices.reshape(-1, topn)\n",
        "    distances = output[x_indices, top_indices].reshape(-1, topn)\n",
        "    return labels, distances"
      ]
    },
    {
      "cell_type": "code",
      "execution_count": 176,
      "metadata": {
        "id": "mNH01g4J0h-2",
        "colab": {
          "base_uri": "https://localhost:8080/"
        },
        "outputId": "2fab660d-cc92-47cc-d4e6-e128a86d706a"
      },
      "outputs": [
        {
          "output_type": "execute_result",
          "data": {
            "text/plain": [
              "(array([[ 31,  19,  43,  32, 121,  62, 100, 268, 255, 173]]),\n",
              " array([[-4.22931478e-06, -4.25222430e-06, -4.26662334e-06,\n",
              "         -4.30220931e-06, -4.33892711e-06, -4.35697613e-06,\n",
              "         -4.37356792e-06, -4.39262166e-06, -4.40629083e-06,\n",
              "         -4.42012438e-06]]))"
            ]
          },
          "metadata": {},
          "execution_count": 176
        }
      ],
      "source": [
        "recommend_all(user_embeddings[[0], :], item_embeddings)"
      ]
    },
    {
      "cell_type": "code",
      "execution_count": 177,
      "metadata": {
        "id": "GkXQiL6W0h-2",
        "colab": {
          "base_uri": "https://localhost:8080/"
        },
        "outputId": "d8f4976f-df7e-477c-a377-148af80a89de"
      },
      "outputs": [
        {
          "output_type": "execute_result",
          "data": {
            "text/plain": [
              "((1000, 66), (756562, 66))"
            ]
          },
          "metadata": {},
          "execution_count": 177
        }
      ],
      "source": [
        "item_embeddings[:1000, :].shape, user_embeddings.shape"
      ]
    },
    {
      "cell_type": "code",
      "execution_count": 178,
      "metadata": {
        "id": "s262sswX0h-2"
      },
      "outputs": [],
      "source": [
        "query_matrix_not_augmented = user_embeddings[:1000, :]"
      ]
    },
    {
      "cell_type": "code",
      "execution_count": 179,
      "metadata": {
        "id": "a_5GcNtC0h-2",
        "colab": {
          "base_uri": "https://localhost:8080/"
        },
        "outputId": "10af5640-f873-498b-9e56-8dea8789129e"
      },
      "outputs": [
        {
          "output_type": "stream",
          "name": "stdout",
          "text": [
            "225 ms ± 6.24 ms per loop (mean ± std. dev. of 7 runs, 1 loop each)\n"
          ]
        }
      ],
      "source": [
        "%%timeit\n",
        "recommend_all(query_matrix_not_augmented, item_embeddings)"
      ]
    },
    {
      "cell_type": "code",
      "execution_count": 180,
      "metadata": {
        "id": "OerOfhVp0h-3",
        "colab": {
          "base_uri": "https://localhost:8080/"
        },
        "outputId": "65dfbf4a-cc9f-449e-c5cc-e039788e6720"
      },
      "outputs": [
        {
          "output_type": "stream",
          "name": "stdout",
          "text": [
            "48.2 ms ± 1.33 ms per loop (mean ± std. dev. of 7 runs, 10 loops each)\n"
          ]
        }
      ],
      "source": [
        "%%timeit\n",
        "index.knnQueryBatch(query_matrix, k = K, num_threads = num_threads)"
      ]
    },
    {
      "cell_type": "code",
      "execution_count": 125,
      "metadata": {
        "id": "i_9pszF60h-3"
      },
      "outputs": [],
      "source": [
        "import hnswlib"
      ]
    },
    {
      "cell_type": "code",
      "execution_count": 181,
      "metadata": {
        "id": "yTKLqBm_0h-3",
        "colab": {
          "base_uri": "https://localhost:8080/"
        },
        "outputId": "119c6e51-3a6d-46c5-bf79-624121ce8586"
      },
      "outputs": [
        {
          "output_type": "stream",
          "name": "stdout",
          "text": [
            "CPU times: user 4.32 s, sys: 21.7 ms, total: 4.34 s\n",
            "Wall time: 2.99 s\n"
          ]
        }
      ],
      "source": [
        "%%time\n",
        "max_elements, dim = augmented_item_embeddings.shape\n",
        "hnsw = hnswlib.Index(\"l2\", dim) # possible options for space are l2, cosine or ip\n",
        "\n",
        "# Initing index - the maximum number of elements should be known beforehand\n",
        "hnsw.init_index(max_elements, M, efC)\n",
        "\n",
        "# Element insertion (can be called several times)\n",
        "hnsw.add_items(augmented_item_embeddings)"
      ]
    },
    {
      "cell_type": "code",
      "execution_count": 182,
      "metadata": {
        "id": "1kuRP_ma0h-3"
      },
      "outputs": [],
      "source": [
        "# Controlling the recall by setting ef, should always be > k\n",
        "hnsw.set_ef(efS)"
      ]
    },
    {
      "cell_type": "code",
      "execution_count": 183,
      "metadata": {
        "id": "hIIlTEef0h-3"
      },
      "outputs": [],
      "source": [
        "label, distance = hnsw.knn_query(query_matrix, k=k)"
      ]
    },
    {
      "cell_type": "code",
      "execution_count": 184,
      "metadata": {
        "id": "5X1KIDfI0h-3",
        "colab": {
          "base_uri": "https://localhost:8080/"
        },
        "outputId": "4d5dcc6c-7594-4d12-c5b1-130805656060"
      },
      "outputs": [
        {
          "output_type": "execute_result",
          "data": {
            "text/plain": [
              "array([[ 169,  289,  754, ..., 2742, 6403, 6565],\n",
              "       [ 169,  289,  754, ..., 2742, 6403, 6565],\n",
              "       [ 169,  289,  754, ..., 2742, 6403, 6565],\n",
              "       ...,\n",
              "       [ 169,  289,  754, ..., 2742, 6403, 6565],\n",
              "       [ 169,  289,  754, ..., 2742, 6403, 6565],\n",
              "       [ 169,  289,  754, ..., 2742, 6403, 6565]], dtype=uint64)"
            ]
          },
          "metadata": {},
          "execution_count": 184
        }
      ],
      "source": [
        "label"
      ]
    },
    {
      "cell_type": "code",
      "execution_count": 185,
      "metadata": {
        "id": "ybJ4jVmn0h-3",
        "colab": {
          "base_uri": "https://localhost:8080/"
        },
        "outputId": "c131651d-723a-43e5-c3fc-a63f1caf7c73"
      },
      "outputs": [
        {
          "output_type": "execute_result",
          "data": {
            "text/plain": [
              "array([[-1.0000093, -1.0000093, -1.0000093, ..., -1.0000093, -1.0000093,\n",
              "        -1.0000093],\n",
              "       [-1.0000093, -1.0000093, -1.0000093, ..., -1.0000093, -1.0000093,\n",
              "        -1.0000093],\n",
              "       [-1.0000083, -1.0000083, -1.0000083, ..., -1.0000083, -1.0000083,\n",
              "        -1.0000083],\n",
              "       ...,\n",
              "       [-1.00001  , -1.00001  , -1.00001  , ..., -1.00001  , -1.00001  ,\n",
              "        -1.00001  ],\n",
              "       [-1.0000093, -1.0000093, -1.0000093, ..., -1.0000093, -1.0000093,\n",
              "        -1.0000093],\n",
              "       [-1.0000005, -1.0000005, -1.0000005, ..., -1.0000005, -1.0000005,\n",
              "        -1.0000005]], dtype=float32)"
            ]
          },
          "metadata": {},
          "execution_count": 185
        }
      ],
      "source": [
        "1 - distance"
      ]
    },
    {
      "cell_type": "code",
      "execution_count": 186,
      "metadata": {
        "id": "USRGHvkx0h-4",
        "colab": {
          "base_uri": "https://localhost:8080/"
        },
        "outputId": "d9d810a8-46d9-463e-ea03-e6dc1caf3533"
      },
      "outputs": [
        {
          "output_type": "execute_result",
          "data": {
            "text/plain": [
              "-4.600498558993138e-06"
            ]
          },
          "metadata": {},
          "execution_count": 186
        }
      ],
      "source": [
        "item_embeddings[8867].dot(user_embeddings[0])"
      ]
    },
    {
      "cell_type": "code",
      "execution_count": 187,
      "metadata": {
        "id": "mZFMv0dQ0h-4",
        "colab": {
          "base_uri": "https://localhost:8080/"
        },
        "outputId": "327504ce-06a5-4607-8b0a-1e13cc6e2a77"
      },
      "outputs": [
        {
          "output_type": "stream",
          "name": "stdout",
          "text": [
            "[[ 31  19  43 ... 268 255 173]\n",
            " [ 31  19  43 ... 268 255 173]\n",
            " [ 31  19  43 ... 268 255 173]\n",
            " ...\n",
            " [ 31  19  43 ... 268 255 173]\n",
            " [ 31  19  43 ... 268 255 173]\n",
            " [ 31  19  43 ... 268 255 173]]\n",
            "[[-4.22931478e-06 -4.25222430e-06 -4.26662334e-06 ... -4.39262166e-06\n",
            "  -4.40629083e-06 -4.42012438e-06]\n",
            " [-4.22931478e-06 -4.25222430e-06 -4.26662334e-06 ... -4.39262166e-06\n",
            "  -4.40629083e-06 -4.42012438e-06]\n",
            " [-3.86012633e-06 -3.88303584e-06 -3.89743488e-06 ... -4.02343321e-06\n",
            "  -4.03710237e-06 -4.05093593e-06]\n",
            " ...\n",
            " [-4.67602447e-06 -4.69893399e-06 -4.71333303e-06 ... -4.83933135e-06\n",
            "  -4.85300052e-06 -4.86683408e-06]\n",
            " [-4.27548710e-06 -4.29839662e-06 -4.31279565e-06 ... -4.43879398e-06\n",
            "  -4.45246314e-06 -4.46629670e-06]\n",
            " [ 1.38734464e-07  1.15824946e-07  1.01425911e-07 ... -2.45724152e-08\n",
            "  -3.82415806e-08 -5.20751371e-08]]\n"
          ]
        }
      ],
      "source": [
        "labels, distances = recommend_all(user_embeddings[:1000, :], item_embeddings)\n",
        "print(labels)\n",
        "print(distances)"
      ]
    },
    {
      "cell_type": "code",
      "source": [
        "LightFM_model.get_vectors(dataset)[0].shape"
      ],
      "metadata": {
        "colab": {
          "base_uri": "https://localhost:8080/"
        },
        "id": "9pRqz_8uH9-m",
        "outputId": "5707432d-b45b-4176-c06c-a140d8be9b4c"
      },
      "execution_count": 142,
      "outputs": [
        {
          "output_type": "execute_result",
          "data": {
            "text/plain": [
              "(756562, 66)"
            ]
          },
          "metadata": {},
          "execution_count": 142
        }
      ]
    },
    {
      "cell_type": "code",
      "source": [
        "def get_recommendation(user_id, num_of_recos):\n",
        "    labels,_ = recommend_all(user_embeddings[:user_id, :], item_embeddings)\n",
        "    recos = {}\n",
        "    for i in range(num_of_recos):\n",
        "        recos[f'{user_id}_{i}'] = labels[i][i] \n",
        "    return recos"
      ],
      "metadata": {
        "id": "lOBn8zesInXD"
      },
      "execution_count": 196,
      "outputs": []
    },
    {
      "cell_type": "code",
      "source": [
        "rec = get_recommendation(1337, 10)\n",
        "rec"
      ],
      "metadata": {
        "colab": {
          "base_uri": "https://localhost:8080/"
        },
        "id": "I_SWA9onRQiY",
        "outputId": "d966a3f6-2296-4089-8818-4ecdca81cd24"
      },
      "execution_count": 199,
      "outputs": [
        {
          "output_type": "execute_result",
          "data": {
            "text/plain": [
              "{'1337_0': 31,\n",
              " '1337_1': 19,\n",
              " '1337_2': 43,\n",
              " '1337_3': 32,\n",
              " '1337_4': 121,\n",
              " '1337_5': 62,\n",
              " '1337_6': 100,\n",
              " '1337_7': 268,\n",
              " '1337_8': 255,\n",
              " '1337_9': 173}"
            ]
          },
          "metadata": {},
          "execution_count": 199
        }
      ]
    }
  ],
  "metadata": {
    "kernelspec": {
      "display_name": "Python 3",
      "name": "python3"
    },
    "language_info": {
      "name": "python"
    },
    "colab": {
      "provenance": [],
      "collapsed_sections": [
        "RBmyCnOI0h-m",
        "yXNJcZC90h-o",
        "Sd7595ox0h-q",
        "VcYD6E1Z0h-q",
        "0AOWTBOu0h-s",
        "TL63dFyt0h-t",
        "2BtUS2eH0h-t",
        "3VJjE_Zf0h-u",
        "XAw56J_Y0h-v",
        "YQ_VHcdU0h-x",
        "tsoCdUaH0h-x"
      ]
    },
    "accelerator": "GPU",
    "gpuClass": "standard"
  },
  "nbformat": 4,
  "nbformat_minor": 0
}